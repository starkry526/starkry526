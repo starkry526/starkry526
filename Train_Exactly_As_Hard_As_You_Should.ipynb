{
  "nbformat": 4,
  "nbformat_minor": 5,
  "metadata": {
    "kernelspec": {
      "display_name": "Python 3",
      "language": "python",
      "name": "python3"
    },
    "language_info": {
      "codemirror_mode": {
        "name": "ipython",
        "version": 3
      },
      "file_extension": ".py",
      "mimetype": "text/x-python",
      "name": "python",
      "nbconvert_exporter": "python",
      "pygments_lexer": "ipython3",
      "version": "3.8.5"
    },
    "colab": {
      "name": "Train Exactly As Hard As You Should.ipynb",
      "provenance": [],
      "include_colab_link": true
    },
    "widgets": {
      "application/vnd.jupyter.widget-state+json": {
        "396032d603a84f0facda51a6ff952c26": {
          "model_module": "@jupyter-widgets/controls",
          "model_name": "DatePickerModel",
          "model_module_version": "1.5.0",
          "state": {
            "_view_name": "DatePickerView",
            "style": "IPY_MODEL_0a2c831f928b4049b4a05cfa72ec0f67",
            "_dom_classes": [],
            "description": "Date",
            "_model_name": "DatePickerModel",
            "_view_module": "@jupyter-widgets/controls",
            "_model_module_version": "1.5.0",
            "value": {
              "year": 2019,
              "month": 3,
              "date": 29
            },
            "_view_count": null,
            "disabled": false,
            "_view_module_version": "1.5.0",
            "description_tooltip": null,
            "_model_module": "@jupyter-widgets/controls",
            "layout": "IPY_MODEL_2b1470c9f901444790d94d4de067fd45"
          }
        },
        "0a2c831f928b4049b4a05cfa72ec0f67": {
          "model_module": "@jupyter-widgets/controls",
          "model_name": "DescriptionStyleModel",
          "model_module_version": "1.5.0",
          "state": {
            "_view_name": "StyleView",
            "_model_name": "DescriptionStyleModel",
            "description_width": "",
            "_view_module": "@jupyter-widgets/base",
            "_model_module_version": "1.5.0",
            "_view_count": null,
            "_view_module_version": "1.2.0",
            "_model_module": "@jupyter-widgets/controls"
          }
        },
        "2b1470c9f901444790d94d4de067fd45": {
          "model_module": "@jupyter-widgets/base",
          "model_name": "LayoutModel",
          "model_module_version": "1.2.0",
          "state": {
            "_view_name": "LayoutView",
            "grid_template_rows": null,
            "right": null,
            "justify_content": null,
            "_view_module": "@jupyter-widgets/base",
            "overflow": null,
            "_model_module_version": "1.2.0",
            "_view_count": null,
            "flex_flow": null,
            "width": null,
            "min_width": null,
            "border": null,
            "align_items": null,
            "bottom": null,
            "_model_module": "@jupyter-widgets/base",
            "top": null,
            "grid_column": null,
            "overflow_y": null,
            "overflow_x": null,
            "grid_auto_flow": null,
            "grid_area": null,
            "grid_template_columns": null,
            "flex": null,
            "_model_name": "LayoutModel",
            "justify_items": null,
            "grid_row": null,
            "max_height": null,
            "align_content": null,
            "visibility": null,
            "align_self": null,
            "height": null,
            "min_height": null,
            "padding": null,
            "grid_auto_rows": null,
            "grid_gap": null,
            "max_width": null,
            "order": null,
            "_view_module_version": "1.2.0",
            "grid_template_areas": null,
            "object_position": null,
            "object_fit": null,
            "grid_auto_columns": null,
            "margin": null,
            "display": null,
            "left": null
          }
        },
        "bed09569e25449548d997ac90a3af901": {
          "model_module": "@jupyter-widgets/controls",
          "model_name": "TextModel",
          "model_module_version": "1.5.0",
          "state": {
            "_view_name": "TextView",
            "style": "IPY_MODEL_59fa1af0288f49e59a41da687ae6786e",
            "_dom_classes": [],
            "description": "Lift",
            "_model_name": "TextModel",
            "placeholder": "Competition Squat",
            "_view_module": "@jupyter-widgets/controls",
            "_model_module_version": "1.5.0",
            "value": "Dumbbell Row",
            "_view_count": null,
            "disabled": false,
            "_view_module_version": "1.5.0",
            "continuous_update": true,
            "description_tooltip": null,
            "_model_module": "@jupyter-widgets/controls",
            "layout": "IPY_MODEL_236a6187fcf543499faac605057567ae"
          }
        },
        "59fa1af0288f49e59a41da687ae6786e": {
          "model_module": "@jupyter-widgets/controls",
          "model_name": "DescriptionStyleModel",
          "model_module_version": "1.5.0",
          "state": {
            "_view_name": "StyleView",
            "_model_name": "DescriptionStyleModel",
            "description_width": "",
            "_view_module": "@jupyter-widgets/base",
            "_model_module_version": "1.5.0",
            "_view_count": null,
            "_view_module_version": "1.2.0",
            "_model_module": "@jupyter-widgets/controls"
          }
        },
        "236a6187fcf543499faac605057567ae": {
          "model_module": "@jupyter-widgets/base",
          "model_name": "LayoutModel",
          "model_module_version": "1.2.0",
          "state": {
            "_view_name": "LayoutView",
            "grid_template_rows": null,
            "right": null,
            "justify_content": null,
            "_view_module": "@jupyter-widgets/base",
            "overflow": null,
            "_model_module_version": "1.2.0",
            "_view_count": null,
            "flex_flow": null,
            "width": null,
            "min_width": null,
            "border": null,
            "align_items": null,
            "bottom": null,
            "_model_module": "@jupyter-widgets/base",
            "top": null,
            "grid_column": null,
            "overflow_y": null,
            "overflow_x": null,
            "grid_auto_flow": null,
            "grid_area": null,
            "grid_template_columns": null,
            "flex": null,
            "_model_name": "LayoutModel",
            "justify_items": null,
            "grid_row": null,
            "max_height": null,
            "align_content": null,
            "visibility": null,
            "align_self": null,
            "height": null,
            "min_height": null,
            "padding": null,
            "grid_auto_rows": null,
            "grid_gap": null,
            "max_width": null,
            "order": null,
            "_view_module_version": "1.2.0",
            "grid_template_areas": null,
            "object_position": null,
            "object_fit": null,
            "grid_auto_columns": null,
            "margin": null,
            "display": null,
            "left": null
          }
        },
        "1af5fb0ad9484637a9280facf2ee77a4": {
          "model_module": "@jupyter-widgets/controls",
          "model_name": "FloatTextModel",
          "model_module_version": "1.5.0",
          "state": {
            "_view_name": "FloatTextView",
            "style": "IPY_MODEL_0c92aab7b0f2481eae2c6537e47885fb",
            "_dom_classes": [],
            "description": "Weight",
            "_model_name": "FloatTextModel",
            "_view_module": "@jupyter-widgets/controls",
            "_model_module_version": "1.5.0",
            "value": 120,
            "_view_count": null,
            "disabled": false,
            "_view_module_version": "1.5.0",
            "continuous_update": false,
            "step": null,
            "description_tooltip": null,
            "_model_module": "@jupyter-widgets/controls",
            "layout": "IPY_MODEL_71c628f73b484f8ea9069929900bd7d2"
          }
        },
        "0c92aab7b0f2481eae2c6537e47885fb": {
          "model_module": "@jupyter-widgets/controls",
          "model_name": "DescriptionStyleModel",
          "model_module_version": "1.5.0",
          "state": {
            "_view_name": "StyleView",
            "_model_name": "DescriptionStyleModel",
            "description_width": "",
            "_view_module": "@jupyter-widgets/base",
            "_model_module_version": "1.5.0",
            "_view_count": null,
            "_view_module_version": "1.2.0",
            "_model_module": "@jupyter-widgets/controls"
          }
        },
        "71c628f73b484f8ea9069929900bd7d2": {
          "model_module": "@jupyter-widgets/base",
          "model_name": "LayoutModel",
          "model_module_version": "1.2.0",
          "state": {
            "_view_name": "LayoutView",
            "grid_template_rows": null,
            "right": null,
            "justify_content": null,
            "_view_module": "@jupyter-widgets/base",
            "overflow": null,
            "_model_module_version": "1.2.0",
            "_view_count": null,
            "flex_flow": null,
            "width": null,
            "min_width": null,
            "border": null,
            "align_items": null,
            "bottom": null,
            "_model_module": "@jupyter-widgets/base",
            "top": null,
            "grid_column": null,
            "overflow_y": null,
            "overflow_x": null,
            "grid_auto_flow": null,
            "grid_area": null,
            "grid_template_columns": null,
            "flex": null,
            "_model_name": "LayoutModel",
            "justify_items": null,
            "grid_row": null,
            "max_height": null,
            "align_content": null,
            "visibility": null,
            "align_self": null,
            "height": null,
            "min_height": null,
            "padding": null,
            "grid_auto_rows": null,
            "grid_gap": null,
            "max_width": null,
            "order": null,
            "_view_module_version": "1.2.0",
            "grid_template_areas": null,
            "object_position": null,
            "object_fit": null,
            "grid_auto_columns": null,
            "margin": null,
            "display": null,
            "left": null
          }
        },
        "7e1cfeee216246e2a0d566504935c5ea": {
          "model_module": "@jupyter-widgets/controls",
          "model_name": "IntTextModel",
          "model_module_version": "1.5.0",
          "state": {
            "_view_name": "IntTextView",
            "style": "IPY_MODEL_64ba44d9603d4ee4b561e5b4c7c23976",
            "_dom_classes": [],
            "description": "Reps",
            "_model_name": "IntTextModel",
            "_view_module": "@jupyter-widgets/controls",
            "_model_module_version": "1.5.0",
            "value": 5,
            "_view_count": null,
            "disabled": false,
            "_view_module_version": "1.5.0",
            "continuous_update": false,
            "step": 1,
            "description_tooltip": null,
            "_model_module": "@jupyter-widgets/controls",
            "layout": "IPY_MODEL_e6dc938c7f2b4c3caaad71a1c68ddda8"
          }
        },
        "64ba44d9603d4ee4b561e5b4c7c23976": {
          "model_module": "@jupyter-widgets/controls",
          "model_name": "DescriptionStyleModel",
          "model_module_version": "1.5.0",
          "state": {
            "_view_name": "StyleView",
            "_model_name": "DescriptionStyleModel",
            "description_width": "",
            "_view_module": "@jupyter-widgets/base",
            "_model_module_version": "1.5.0",
            "_view_count": null,
            "_view_module_version": "1.2.0",
            "_model_module": "@jupyter-widgets/controls"
          }
        },
        "e6dc938c7f2b4c3caaad71a1c68ddda8": {
          "model_module": "@jupyter-widgets/base",
          "model_name": "LayoutModel",
          "model_module_version": "1.2.0",
          "state": {
            "_view_name": "LayoutView",
            "grid_template_rows": null,
            "right": null,
            "justify_content": null,
            "_view_module": "@jupyter-widgets/base",
            "overflow": null,
            "_model_module_version": "1.2.0",
            "_view_count": null,
            "flex_flow": null,
            "width": null,
            "min_width": null,
            "border": null,
            "align_items": null,
            "bottom": null,
            "_model_module": "@jupyter-widgets/base",
            "top": null,
            "grid_column": null,
            "overflow_y": null,
            "overflow_x": null,
            "grid_auto_flow": null,
            "grid_area": null,
            "grid_template_columns": null,
            "flex": null,
            "_model_name": "LayoutModel",
            "justify_items": null,
            "grid_row": null,
            "max_height": null,
            "align_content": null,
            "visibility": null,
            "align_self": null,
            "height": null,
            "min_height": null,
            "padding": null,
            "grid_auto_rows": null,
            "grid_gap": null,
            "max_width": null,
            "order": null,
            "_view_module_version": "1.2.0",
            "grid_template_areas": null,
            "object_position": null,
            "object_fit": null,
            "grid_auto_columns": null,
            "margin": null,
            "display": null,
            "left": null
          }
        },
        "54d3e902d7934ac5aa1ecd7a55dd590a": {
          "model_module": "@jupyter-widgets/controls",
          "model_name": "IntSliderModel",
          "model_module_version": "1.5.0",
          "state": {
            "_view_name": "IntSliderView",
            "style": "IPY_MODEL_f0507a6d048c489098aa60e510ff05bb",
            "_dom_classes": [],
            "description": "RPE",
            "step": 1,
            "_model_name": "IntSliderModel",
            "orientation": "horizontal",
            "max": 10,
            "_view_module": "@jupyter-widgets/controls",
            "_model_module_version": "1.5.0",
            "value": 10,
            "_view_count": null,
            "disabled": false,
            "_view_module_version": "1.5.0",
            "min": 0,
            "continuous_update": true,
            "readout_format": "d",
            "description_tooltip": null,
            "readout": true,
            "_model_module": "@jupyter-widgets/controls",
            "layout": "IPY_MODEL_3906ceeb86214ffaa30ca0fff08a9b1b"
          }
        },
        "f0507a6d048c489098aa60e510ff05bb": {
          "model_module": "@jupyter-widgets/controls",
          "model_name": "SliderStyleModel",
          "model_module_version": "1.5.0",
          "state": {
            "_view_name": "StyleView",
            "handle_color": null,
            "_model_name": "SliderStyleModel",
            "description_width": "",
            "_view_module": "@jupyter-widgets/base",
            "_model_module_version": "1.5.0",
            "_view_count": null,
            "_view_module_version": "1.2.0",
            "_model_module": "@jupyter-widgets/controls"
          }
        },
        "3906ceeb86214ffaa30ca0fff08a9b1b": {
          "model_module": "@jupyter-widgets/base",
          "model_name": "LayoutModel",
          "model_module_version": "1.2.0",
          "state": {
            "_view_name": "LayoutView",
            "grid_template_rows": null,
            "right": null,
            "justify_content": null,
            "_view_module": "@jupyter-widgets/base",
            "overflow": null,
            "_model_module_version": "1.2.0",
            "_view_count": null,
            "flex_flow": null,
            "width": null,
            "min_width": null,
            "border": null,
            "align_items": null,
            "bottom": null,
            "_model_module": "@jupyter-widgets/base",
            "top": null,
            "grid_column": null,
            "overflow_y": null,
            "overflow_x": null,
            "grid_auto_flow": null,
            "grid_area": null,
            "grid_template_columns": null,
            "flex": null,
            "_model_name": "LayoutModel",
            "justify_items": null,
            "grid_row": null,
            "max_height": null,
            "align_content": null,
            "visibility": null,
            "align_self": null,
            "height": null,
            "min_height": null,
            "padding": null,
            "grid_auto_rows": null,
            "grid_gap": null,
            "max_width": null,
            "order": null,
            "_view_module_version": "1.2.0",
            "grid_template_areas": null,
            "object_position": null,
            "object_fit": null,
            "grid_auto_columns": null,
            "margin": null,
            "display": null,
            "left": null
          }
        },
        "5fed17e4766245e98589adc887c4c2e5": {
          "model_module": "@jupyter-widgets/controls",
          "model_name": "ButtonModel",
          "model_module_version": "1.5.0",
          "state": {
            "_view_name": "ButtonView",
            "style": "IPY_MODEL_3b75b8123bf949bc85f81e0c11ca5286",
            "_dom_classes": [],
            "description": "Enter workout!",
            "_model_name": "ButtonModel",
            "button_style": "",
            "_view_module": "@jupyter-widgets/controls",
            "_model_module_version": "1.5.0",
            "tooltip": "",
            "_view_count": null,
            "disabled": false,
            "_view_module_version": "1.5.0",
            "layout": "IPY_MODEL_285dd4b9a3404df194bd7031273bbce2",
            "_model_module": "@jupyter-widgets/controls",
            "icon": ""
          }
        },
        "3b75b8123bf949bc85f81e0c11ca5286": {
          "model_module": "@jupyter-widgets/controls",
          "model_name": "ButtonStyleModel",
          "model_module_version": "1.5.0",
          "state": {
            "_view_name": "StyleView",
            "_model_name": "ButtonStyleModel",
            "_view_module": "@jupyter-widgets/base",
            "_model_module_version": "1.5.0",
            "_view_count": null,
            "button_color": null,
            "font_weight": "",
            "_view_module_version": "1.2.0",
            "_model_module": "@jupyter-widgets/controls"
          }
        },
        "285dd4b9a3404df194bd7031273bbce2": {
          "model_module": "@jupyter-widgets/base",
          "model_name": "LayoutModel",
          "model_module_version": "1.2.0",
          "state": {
            "_view_name": "LayoutView",
            "grid_template_rows": null,
            "right": null,
            "justify_content": null,
            "_view_module": "@jupyter-widgets/base",
            "overflow": null,
            "_model_module_version": "1.2.0",
            "_view_count": null,
            "flex_flow": null,
            "width": null,
            "min_width": null,
            "border": null,
            "align_items": null,
            "bottom": null,
            "_model_module": "@jupyter-widgets/base",
            "top": null,
            "grid_column": null,
            "overflow_y": null,
            "overflow_x": null,
            "grid_auto_flow": null,
            "grid_area": null,
            "grid_template_columns": null,
            "flex": null,
            "_model_name": "LayoutModel",
            "justify_items": null,
            "grid_row": null,
            "max_height": null,
            "align_content": null,
            "visibility": null,
            "align_self": null,
            "height": null,
            "min_height": null,
            "padding": null,
            "grid_auto_rows": null,
            "grid_gap": null,
            "max_width": null,
            "order": null,
            "_view_module_version": "1.2.0",
            "grid_template_areas": null,
            "object_position": null,
            "object_fit": null,
            "grid_auto_columns": null,
            "margin": null,
            "display": null,
            "left": null
          }
        },
        "ee06b914ea614ac182bfbea1fc4eb2f6": {
          "model_module": "@jupyter-widgets/controls",
          "model_name": "TextModel",
          "model_module_version": "1.5.0",
          "state": {
            "_view_name": "TextView",
            "style": "IPY_MODEL_f1147be86a7c4391bc969f4b97eba2b9",
            "_dom_classes": [],
            "description": "Lift",
            "_model_name": "TextModel",
            "placeholder": "What lift to set goal for?",
            "_view_module": "@jupyter-widgets/controls",
            "_model_module_version": "1.5.0",
            "value": "Competition Squat",
            "_view_count": null,
            "disabled": false,
            "_view_module_version": "1.5.0",
            "continuous_update": true,
            "description_tooltip": null,
            "_model_module": "@jupyter-widgets/controls",
            "layout": "IPY_MODEL_4f1076d262184943b848ecb02b881a3a"
          }
        },
        "f1147be86a7c4391bc969f4b97eba2b9": {
          "model_module": "@jupyter-widgets/controls",
          "model_name": "DescriptionStyleModel",
          "model_module_version": "1.5.0",
          "state": {
            "_view_name": "StyleView",
            "_model_name": "DescriptionStyleModel",
            "description_width": "",
            "_view_module": "@jupyter-widgets/base",
            "_model_module_version": "1.5.0",
            "_view_count": null,
            "_view_module_version": "1.2.0",
            "_model_module": "@jupyter-widgets/controls"
          }
        },
        "4f1076d262184943b848ecb02b881a3a": {
          "model_module": "@jupyter-widgets/base",
          "model_name": "LayoutModel",
          "model_module_version": "1.2.0",
          "state": {
            "_view_name": "LayoutView",
            "grid_template_rows": null,
            "right": null,
            "justify_content": null,
            "_view_module": "@jupyter-widgets/base",
            "overflow": null,
            "_model_module_version": "1.2.0",
            "_view_count": null,
            "flex_flow": null,
            "width": null,
            "min_width": null,
            "border": null,
            "align_items": null,
            "bottom": null,
            "_model_module": "@jupyter-widgets/base",
            "top": null,
            "grid_column": null,
            "overflow_y": null,
            "overflow_x": null,
            "grid_auto_flow": null,
            "grid_area": null,
            "grid_template_columns": null,
            "flex": null,
            "_model_name": "LayoutModel",
            "justify_items": null,
            "grid_row": null,
            "max_height": null,
            "align_content": null,
            "visibility": null,
            "align_self": null,
            "height": null,
            "min_height": null,
            "padding": null,
            "grid_auto_rows": null,
            "grid_gap": null,
            "max_width": null,
            "order": null,
            "_view_module_version": "1.2.0",
            "grid_template_areas": null,
            "object_position": null,
            "object_fit": null,
            "grid_auto_columns": null,
            "margin": null,
            "display": null,
            "left": null
          }
        },
        "814b92d3898c47c2bc033e5d3cd5490d": {
          "model_module": "@jupyter-widgets/controls",
          "model_name": "FloatTextModel",
          "model_module_version": "1.5.0",
          "state": {
            "_view_name": "FloatTextView",
            "style": "IPY_MODEL_4c7e816deea74391b2a33beaed4f9c64",
            "_dom_classes": [],
            "description": "New 1RM Goal",
            "_model_name": "FloatTextModel",
            "_view_module": "@jupyter-widgets/controls",
            "_model_module_version": "1.5.0",
            "value": 330,
            "_view_count": null,
            "disabled": false,
            "_view_module_version": "1.5.0",
            "continuous_update": false,
            "step": null,
            "description_tooltip": null,
            "_model_module": "@jupyter-widgets/controls",
            "layout": "IPY_MODEL_fbd77aacf1454fec935ca53e4108ca39"
          }
        },
        "4c7e816deea74391b2a33beaed4f9c64": {
          "model_module": "@jupyter-widgets/controls",
          "model_name": "DescriptionStyleModel",
          "model_module_version": "1.5.0",
          "state": {
            "_view_name": "StyleView",
            "_model_name": "DescriptionStyleModel",
            "description_width": "",
            "_view_module": "@jupyter-widgets/base",
            "_model_module_version": "1.5.0",
            "_view_count": null,
            "_view_module_version": "1.2.0",
            "_model_module": "@jupyter-widgets/controls"
          }
        },
        "fbd77aacf1454fec935ca53e4108ca39": {
          "model_module": "@jupyter-widgets/base",
          "model_name": "LayoutModel",
          "model_module_version": "1.2.0",
          "state": {
            "_view_name": "LayoutView",
            "grid_template_rows": null,
            "right": null,
            "justify_content": null,
            "_view_module": "@jupyter-widgets/base",
            "overflow": null,
            "_model_module_version": "1.2.0",
            "_view_count": null,
            "flex_flow": null,
            "width": null,
            "min_width": null,
            "border": null,
            "align_items": null,
            "bottom": null,
            "_model_module": "@jupyter-widgets/base",
            "top": null,
            "grid_column": null,
            "overflow_y": null,
            "overflow_x": null,
            "grid_auto_flow": null,
            "grid_area": null,
            "grid_template_columns": null,
            "flex": null,
            "_model_name": "LayoutModel",
            "justify_items": null,
            "grid_row": null,
            "max_height": null,
            "align_content": null,
            "visibility": null,
            "align_self": null,
            "height": null,
            "min_height": null,
            "padding": null,
            "grid_auto_rows": null,
            "grid_gap": null,
            "max_width": null,
            "order": null,
            "_view_module_version": "1.2.0",
            "grid_template_areas": null,
            "object_position": null,
            "object_fit": null,
            "grid_auto_columns": null,
            "margin": null,
            "display": null,
            "left": null
          }
        },
        "4b813868b36a417e88e33e3f1c01e8e5": {
          "model_module": "@jupyter-widgets/controls",
          "model_name": "IntTextModel",
          "model_module_version": "1.5.0",
          "state": {
            "_view_name": "IntTextView",
            "style": "IPY_MODEL_29349c563d214acb92f336f64df78eda",
            "_dom_classes": [],
            "description": "Reps",
            "_model_name": "IntTextModel",
            "_view_module": "@jupyter-widgets/controls",
            "_model_module_version": "1.5.0",
            "value": 5,
            "_view_count": null,
            "disabled": false,
            "_view_module_version": "1.5.0",
            "continuous_update": false,
            "step": 1,
            "description_tooltip": null,
            "_model_module": "@jupyter-widgets/controls",
            "layout": "IPY_MODEL_962f95cb09f74ecdbb320673cf523606"
          }
        },
        "29349c563d214acb92f336f64df78eda": {
          "model_module": "@jupyter-widgets/controls",
          "model_name": "DescriptionStyleModel",
          "model_module_version": "1.5.0",
          "state": {
            "_view_name": "StyleView",
            "_model_name": "DescriptionStyleModel",
            "description_width": "",
            "_view_module": "@jupyter-widgets/base",
            "_model_module_version": "1.5.0",
            "_view_count": null,
            "_view_module_version": "1.2.0",
            "_model_module": "@jupyter-widgets/controls"
          }
        },
        "962f95cb09f74ecdbb320673cf523606": {
          "model_module": "@jupyter-widgets/base",
          "model_name": "LayoutModel",
          "model_module_version": "1.2.0",
          "state": {
            "_view_name": "LayoutView",
            "grid_template_rows": null,
            "right": null,
            "justify_content": null,
            "_view_module": "@jupyter-widgets/base",
            "overflow": null,
            "_model_module_version": "1.2.0",
            "_view_count": null,
            "flex_flow": null,
            "width": null,
            "min_width": null,
            "border": null,
            "align_items": null,
            "bottom": null,
            "_model_module": "@jupyter-widgets/base",
            "top": null,
            "grid_column": null,
            "overflow_y": null,
            "overflow_x": null,
            "grid_auto_flow": null,
            "grid_area": null,
            "grid_template_columns": null,
            "flex": null,
            "_model_name": "LayoutModel",
            "justify_items": null,
            "grid_row": null,
            "max_height": null,
            "align_content": null,
            "visibility": null,
            "align_self": null,
            "height": null,
            "min_height": null,
            "padding": null,
            "grid_auto_rows": null,
            "grid_gap": null,
            "max_width": null,
            "order": null,
            "_view_module_version": "1.2.0",
            "grid_template_areas": null,
            "object_position": null,
            "object_fit": null,
            "grid_auto_columns": null,
            "margin": null,
            "display": null,
            "left": null
          }
        },
        "e62e79dd2a0f4e92b6538cdd9974a974": {
          "model_module": "@jupyter-widgets/controls",
          "model_name": "IntSliderModel",
          "model_module_version": "1.5.0",
          "state": {
            "_view_name": "IntSliderView",
            "style": "IPY_MODEL_b69c0e8c80bf4479b46b95f9c342851d",
            "_dom_classes": [],
            "description": "RPE",
            "step": 1,
            "_model_name": "IntSliderModel",
            "orientation": "horizontal",
            "max": 10,
            "_view_module": "@jupyter-widgets/controls",
            "_model_module_version": "1.5.0",
            "value": 10,
            "_view_count": null,
            "disabled": false,
            "_view_module_version": "1.5.0",
            "min": 0,
            "continuous_update": true,
            "readout_format": "d",
            "description_tooltip": null,
            "readout": true,
            "_model_module": "@jupyter-widgets/controls",
            "layout": "IPY_MODEL_2fc7fac301f847b8881a1284c56205bb"
          }
        },
        "b69c0e8c80bf4479b46b95f9c342851d": {
          "model_module": "@jupyter-widgets/controls",
          "model_name": "SliderStyleModel",
          "model_module_version": "1.5.0",
          "state": {
            "_view_name": "StyleView",
            "handle_color": null,
            "_model_name": "SliderStyleModel",
            "description_width": "",
            "_view_module": "@jupyter-widgets/base",
            "_model_module_version": "1.5.0",
            "_view_count": null,
            "_view_module_version": "1.2.0",
            "_model_module": "@jupyter-widgets/controls"
          }
        },
        "2fc7fac301f847b8881a1284c56205bb": {
          "model_module": "@jupyter-widgets/base",
          "model_name": "LayoutModel",
          "model_module_version": "1.2.0",
          "state": {
            "_view_name": "LayoutView",
            "grid_template_rows": null,
            "right": null,
            "justify_content": null,
            "_view_module": "@jupyter-widgets/base",
            "overflow": null,
            "_model_module_version": "1.2.0",
            "_view_count": null,
            "flex_flow": null,
            "width": null,
            "min_width": null,
            "border": null,
            "align_items": null,
            "bottom": null,
            "_model_module": "@jupyter-widgets/base",
            "top": null,
            "grid_column": null,
            "overflow_y": null,
            "overflow_x": null,
            "grid_auto_flow": null,
            "grid_area": null,
            "grid_template_columns": null,
            "flex": null,
            "_model_name": "LayoutModel",
            "justify_items": null,
            "grid_row": null,
            "max_height": null,
            "align_content": null,
            "visibility": null,
            "align_self": null,
            "height": null,
            "min_height": null,
            "padding": null,
            "grid_auto_rows": null,
            "grid_gap": null,
            "max_width": null,
            "order": null,
            "_view_module_version": "1.2.0",
            "grid_template_areas": null,
            "object_position": null,
            "object_fit": null,
            "grid_auto_columns": null,
            "margin": null,
            "display": null,
            "left": null
          }
        },
        "e4f7f1518c6d476d8d98bdfcaf46a204": {
          "model_module": "@jupyter-widgets/controls",
          "model_name": "TextModel",
          "model_module_version": "1.5.0",
          "state": {
            "_view_name": "TextView",
            "style": "IPY_MODEL_3acc0971e5ac4ef5b994e70f60cdaa25",
            "_dom_classes": [],
            "description": "Lift",
            "_model_name": "TextModel",
            "placeholder": "Lift to track progress for",
            "_view_module": "@jupyter-widgets/controls",
            "_model_module_version": "1.5.0",
            "value": "Competition Squat",
            "_view_count": null,
            "disabled": false,
            "_view_module_version": "1.5.0",
            "continuous_update": true,
            "description_tooltip": null,
            "_model_module": "@jupyter-widgets/controls",
            "layout": "IPY_MODEL_98c862e9ad3d4b1a92142693cfa4e182"
          }
        },
        "3acc0971e5ac4ef5b994e70f60cdaa25": {
          "model_module": "@jupyter-widgets/controls",
          "model_name": "DescriptionStyleModel",
          "model_module_version": "1.5.0",
          "state": {
            "_view_name": "StyleView",
            "_model_name": "DescriptionStyleModel",
            "description_width": "",
            "_view_module": "@jupyter-widgets/base",
            "_model_module_version": "1.5.0",
            "_view_count": null,
            "_view_module_version": "1.2.0",
            "_model_module": "@jupyter-widgets/controls"
          }
        },
        "98c862e9ad3d4b1a92142693cfa4e182": {
          "model_module": "@jupyter-widgets/base",
          "model_name": "LayoutModel",
          "model_module_version": "1.2.0",
          "state": {
            "_view_name": "LayoutView",
            "grid_template_rows": null,
            "right": null,
            "justify_content": null,
            "_view_module": "@jupyter-widgets/base",
            "overflow": null,
            "_model_module_version": "1.2.0",
            "_view_count": null,
            "flex_flow": null,
            "width": null,
            "min_width": null,
            "border": null,
            "align_items": null,
            "bottom": null,
            "_model_module": "@jupyter-widgets/base",
            "top": null,
            "grid_column": null,
            "overflow_y": null,
            "overflow_x": null,
            "grid_auto_flow": null,
            "grid_area": null,
            "grid_template_columns": null,
            "flex": null,
            "_model_name": "LayoutModel",
            "justify_items": null,
            "grid_row": null,
            "max_height": null,
            "align_content": null,
            "visibility": null,
            "align_self": null,
            "height": null,
            "min_height": null,
            "padding": null,
            "grid_auto_rows": null,
            "grid_gap": null,
            "max_width": null,
            "order": null,
            "_view_module_version": "1.2.0",
            "grid_template_areas": null,
            "object_position": null,
            "object_fit": null,
            "grid_auto_columns": null,
            "margin": null,
            "display": null,
            "left": null
          }
        },
        "a4082ac25e9e422a9e7dcf3daa9b7ac2": {
          "model_module": "@jupyter-widgets/controls",
          "model_name": "DropdownModel",
          "model_module_version": "1.5.0",
          "state": {
            "_options_labels": [
              "Competition Squat",
              "Competition Bench Press",
              "Competition Deadlift"
            ],
            "_view_name": "DropdownView",
            "style": "IPY_MODEL_4975f56074c3439a9cf6180bfbfec66f",
            "_dom_classes": [],
            "description": "Main Lift",
            "_model_name": "DropdownModel",
            "index": 0,
            "_view_module": "@jupyter-widgets/controls",
            "_model_module_version": "1.5.0",
            "_view_count": null,
            "disabled": false,
            "_view_module_version": "1.5.0",
            "description_tooltip": null,
            "_model_module": "@jupyter-widgets/controls",
            "layout": "IPY_MODEL_c16a1c2e27ea424d8c0f5663b37a0321"
          }
        },
        "4975f56074c3439a9cf6180bfbfec66f": {
          "model_module": "@jupyter-widgets/controls",
          "model_name": "DescriptionStyleModel",
          "model_module_version": "1.5.0",
          "state": {
            "_view_name": "StyleView",
            "_model_name": "DescriptionStyleModel",
            "description_width": "",
            "_view_module": "@jupyter-widgets/base",
            "_model_module_version": "1.5.0",
            "_view_count": null,
            "_view_module_version": "1.2.0",
            "_model_module": "@jupyter-widgets/controls"
          }
        },
        "c16a1c2e27ea424d8c0f5663b37a0321": {
          "model_module": "@jupyter-widgets/base",
          "model_name": "LayoutModel",
          "model_module_version": "1.2.0",
          "state": {
            "_view_name": "LayoutView",
            "grid_template_rows": null,
            "right": null,
            "justify_content": null,
            "_view_module": "@jupyter-widgets/base",
            "overflow": null,
            "_model_module_version": "1.2.0",
            "_view_count": null,
            "flex_flow": null,
            "width": null,
            "min_width": null,
            "border": null,
            "align_items": null,
            "bottom": null,
            "_model_module": "@jupyter-widgets/base",
            "top": null,
            "grid_column": null,
            "overflow_y": null,
            "overflow_x": null,
            "grid_auto_flow": null,
            "grid_area": null,
            "grid_template_columns": null,
            "flex": null,
            "_model_name": "LayoutModel",
            "justify_items": null,
            "grid_row": null,
            "max_height": null,
            "align_content": null,
            "visibility": null,
            "align_self": null,
            "height": null,
            "min_height": null,
            "padding": null,
            "grid_auto_rows": null,
            "grid_gap": null,
            "max_width": null,
            "order": null,
            "_view_module_version": "1.2.0",
            "grid_template_areas": null,
            "object_position": null,
            "object_fit": null,
            "grid_auto_columns": null,
            "margin": null,
            "display": null,
            "left": null
          }
        },
        "589de92d5dfc40b2ac279ff31b904d92": {
          "model_module": "@jupyter-widgets/controls",
          "model_name": "TextModel",
          "model_module_version": "1.5.0",
          "state": {
            "_view_name": "TextView",
            "style": "IPY_MODEL_7d996a933efd4f0081c0f4c8808648b8",
            "_dom_classes": [],
            "description": "Accessory",
            "_model_name": "TextModel",
            "placeholder": "Accessory",
            "_view_module": "@jupyter-widgets/controls",
            "_model_module_version": "1.5.0",
            "value": "Good Morning",
            "_view_count": null,
            "disabled": false,
            "_view_module_version": "1.5.0",
            "continuous_update": true,
            "description_tooltip": null,
            "_model_module": "@jupyter-widgets/controls",
            "layout": "IPY_MODEL_5411fac4437d497d861336e76af9d4e7"
          }
        },
        "7d996a933efd4f0081c0f4c8808648b8": {
          "model_module": "@jupyter-widgets/controls",
          "model_name": "DescriptionStyleModel",
          "model_module_version": "1.5.0",
          "state": {
            "_view_name": "StyleView",
            "_model_name": "DescriptionStyleModel",
            "description_width": "",
            "_view_module": "@jupyter-widgets/base",
            "_model_module_version": "1.5.0",
            "_view_count": null,
            "_view_module_version": "1.2.0",
            "_model_module": "@jupyter-widgets/controls"
          }
        },
        "5411fac4437d497d861336e76af9d4e7": {
          "model_module": "@jupyter-widgets/base",
          "model_name": "LayoutModel",
          "model_module_version": "1.2.0",
          "state": {
            "_view_name": "LayoutView",
            "grid_template_rows": null,
            "right": null,
            "justify_content": null,
            "_view_module": "@jupyter-widgets/base",
            "overflow": null,
            "_model_module_version": "1.2.0",
            "_view_count": null,
            "flex_flow": null,
            "width": null,
            "min_width": null,
            "border": null,
            "align_items": null,
            "bottom": null,
            "_model_module": "@jupyter-widgets/base",
            "top": null,
            "grid_column": null,
            "overflow_y": null,
            "overflow_x": null,
            "grid_auto_flow": null,
            "grid_area": null,
            "grid_template_columns": null,
            "flex": null,
            "_model_name": "LayoutModel",
            "justify_items": null,
            "grid_row": null,
            "max_height": null,
            "align_content": null,
            "visibility": null,
            "align_self": null,
            "height": null,
            "min_height": null,
            "padding": null,
            "grid_auto_rows": null,
            "grid_gap": null,
            "max_width": null,
            "order": null,
            "_view_module_version": "1.2.0",
            "grid_template_areas": null,
            "object_position": null,
            "object_fit": null,
            "grid_auto_columns": null,
            "margin": null,
            "display": null,
            "left": null
          }
        }
      }
    }
  },
  "cells": [
    {
      "cell_type": "markdown",
      "metadata": {
        "id": "view-in-github",
        "colab_type": "text"
      },
      "source": [
        "<a href=\"https://colab.research.google.com/github/starkry526/starkry526/blob/main/Train_Exactly_As_Hard_As_You_Should.ipynb\" target=\"_parent\"><img src=\"https://colab.research.google.com/assets/colab-badge.svg\" alt=\"Open In Colab\"/></a>"
      ]
    },
    {
      "cell_type": "markdown",
      "metadata": {
        "id": "HS9KdNUiTL0E"
      },
      "source": [
        "**Train Exactly As Hard As You Should (TEAHAYS) Beta**\n",
        "\n",
        "Start by entering your macrocycle data. You may use pounds or kilograms, but please be consistent with your units throughout.\n",
        "\n",
        "Note: data for Competition Squat, Competition Bench Press, and Competition Deadlift will be graphed below. If you would like those graphs to appear with meaningful data, please enter data for those lifts."
      ],
      "id": "HS9KdNUiTL0E"
    },
    {
      "cell_type": "code",
      "metadata": {
        "scrolled": false,
        "colab": {
          "base_uri": "https://localhost:8080/",
          "height": 169,
          "referenced_widgets": [
            "396032d603a84f0facda51a6ff952c26",
            "0a2c831f928b4049b4a05cfa72ec0f67",
            "2b1470c9f901444790d94d4de067fd45",
            "bed09569e25449548d997ac90a3af901",
            "59fa1af0288f49e59a41da687ae6786e",
            "236a6187fcf543499faac605057567ae",
            "1af5fb0ad9484637a9280facf2ee77a4",
            "0c92aab7b0f2481eae2c6537e47885fb",
            "71c628f73b484f8ea9069929900bd7d2",
            "7e1cfeee216246e2a0d566504935c5ea",
            "64ba44d9603d4ee4b561e5b4c7c23976",
            "e6dc938c7f2b4c3caaad71a1c68ddda8",
            "54d3e902d7934ac5aa1ecd7a55dd590a",
            "f0507a6d048c489098aa60e510ff05bb",
            "3906ceeb86214ffaa30ca0fff08a9b1b"
          ]
        },
        "id": "w73LKDSiTL0H",
        "outputId": "e53efbbd-adae-46c7-916f-e2d771794d84"
      },
      "source": [
        "import ipywidgets as widgets\n",
        "import datetime\n",
        "import pandas as pd\n",
        "import altair as alt\n",
        "import numpy as np\n",
        "import matplotlib.pyplot as plot\n",
        "data = []\n",
        "\n",
        "dtpick = widgets.DatePicker(\n",
        " description='Date',\n",
        " disabled = False,\n",
        " value = datetime.date.today()\n",
        " )\n",
        "display(dtpick)\n",
        "    \n",
        "txtsl = widgets.Text(\n",
        "  placeholder='Competition Squat',\n",
        "  description='Lift'\n",
        "  )\n",
        "display(txtsl)\n",
        "    \n",
        "weight = widgets.FloatText(\n",
        " value=100,\n",
        " description='Weight'\n",
        " )\n",
        "display(weight)\n",
        "    \n",
        "Reps = widgets.IntText(\n",
        "  value=5,\n",
        "  description='Reps'\n",
        "  )\n",
        "display(Reps)\n",
        "   \n",
        "RPEslider = widgets.IntSlider(\n",
        " value=7, # default value\n",
        " min=0, # min value\n",
        " max=10, # max value\n",
        " step=1, # increment size\n",
        " description='RPE' # slider label\n",
        " )\n",
        "display(RPEslider) # display the slider"
      ],
      "id": "w73LKDSiTL0H",
      "execution_count": null,
      "outputs": [
        {
          "output_type": "display_data",
          "data": {
            "application/vnd.jupyter.widget-view+json": {
              "model_id": "396032d603a84f0facda51a6ff952c26",
              "version_minor": 0,
              "version_major": 2
            },
            "text/plain": [
              "DatePicker(value=datetime.date(2021, 6, 9), description='Date')"
            ]
          },
          "metadata": {
            "tags": []
          }
        },
        {
          "output_type": "display_data",
          "data": {
            "application/vnd.jupyter.widget-view+json": {
              "model_id": "bed09569e25449548d997ac90a3af901",
              "version_minor": 0,
              "version_major": 2
            },
            "text/plain": [
              "Text(value='', description='Lift', placeholder='Competition Squat')"
            ]
          },
          "metadata": {
            "tags": []
          }
        },
        {
          "output_type": "display_data",
          "data": {
            "application/vnd.jupyter.widget-view+json": {
              "model_id": "1af5fb0ad9484637a9280facf2ee77a4",
              "version_minor": 0,
              "version_major": 2
            },
            "text/plain": [
              "FloatText(value=100.0, description='Weight')"
            ]
          },
          "metadata": {
            "tags": []
          }
        },
        {
          "output_type": "display_data",
          "data": {
            "application/vnd.jupyter.widget-view+json": {
              "model_id": "7e1cfeee216246e2a0d566504935c5ea",
              "version_minor": 0,
              "version_major": 2
            },
            "text/plain": [
              "IntText(value=5, description='Reps')"
            ]
          },
          "metadata": {
            "tags": []
          }
        },
        {
          "output_type": "display_data",
          "data": {
            "application/vnd.jupyter.widget-view+json": {
              "model_id": "54d3e902d7934ac5aa1ecd7a55dd590a",
              "version_minor": 0,
              "version_major": 2
            },
            "text/plain": [
              "IntSlider(value=7, description='RPE', max=10)"
            ]
          },
          "metadata": {
            "tags": []
          }
        }
      ]
    },
    {
      "cell_type": "code",
      "metadata": {
        "colab": {
          "base_uri": "https://localhost:8080/",
          "height": 525,
          "referenced_widgets": [
            "5fed17e4766245e98589adc887c4c2e5",
            "3b75b8123bf949bc85f81e0c11ca5286",
            "285dd4b9a3404df194bd7031273bbce2"
          ]
        },
        "id": "MxDH36YLTL0K",
        "outputId": "030dfb66-bddc-4284-d12e-731773efea90"
      },
      "source": [
        "btn = widgets.Button(description='Enter workout!')\n",
        "display(btn)\n",
        "def btn_eventhandler(obj):\n",
        "    print('Workout added!'.format(obj.description))\n",
        "    data.append([dtpick.value.isoformat(), txtsl.value, weight.value, Reps.value - RPEslider.value + 10, Reps.value, RPEslider.value])\n",
        "btn.on_click(btn_eventhandler)"
      ],
      "id": "MxDH36YLTL0K",
      "execution_count": null,
      "outputs": [
        {
          "output_type": "display_data",
          "data": {
            "application/vnd.jupyter.widget-view+json": {
              "model_id": "5fed17e4766245e98589adc887c4c2e5",
              "version_minor": 0,
              "version_major": 2
            },
            "text/plain": [
              "Button(description='Enter workout!', style=ButtonStyle())"
            ]
          },
          "metadata": {
            "tags": []
          }
        },
        {
          "output_type": "stream",
          "text": [
            "Workout added!\n",
            "Workout added!\n",
            "Workout added!\n",
            "Workout added!\n",
            "Workout added!\n",
            "Workout added!\n",
            "Workout added!\n",
            "Workout added!\n",
            "Workout added!\n",
            "Workout added!\n",
            "Workout added!\n",
            "Workout added!\n",
            "Workout added!\n",
            "Workout added!\n",
            "Workout added!\n",
            "Workout added!\n",
            "Workout added!\n",
            "Workout added!\n",
            "Workout added!\n",
            "Workout added!\n",
            "Workout added!\n",
            "Workout added!\n",
            "Workout added!\n",
            "Workout added!\n",
            "Workout added!\n",
            "Workout added!\n",
            "Workout added!\n",
            "Workout added!\n"
          ],
          "name": "stdout"
        }
      ]
    },
    {
      "cell_type": "markdown",
      "metadata": {
        "id": "-KedON6yTL0M"
      },
      "source": [
        "Here's your data:"
      ],
      "id": "-KedON6yTL0M"
    },
    {
      "cell_type": "code",
      "metadata": {
        "colab": {
          "base_uri": "https://localhost:8080/",
          "height": 419
        },
        "id": "utRhnidBTL0N",
        "outputId": "22c5102d-4494-404c-ff68-1feb25bd2c0f"
      },
      "source": [
        "df = pd.DataFrame(data, columns = ['Date','Lift','Weight','Projected Reps','Reps','RPE'])\n",
        "display(df)"
      ],
      "id": "utRhnidBTL0N",
      "execution_count": null,
      "outputs": [
        {
          "output_type": "display_data",
          "data": {
            "text/html": [
              "<div>\n",
              "<style scoped>\n",
              "    .dataframe tbody tr th:only-of-type {\n",
              "        vertical-align: middle;\n",
              "    }\n",
              "\n",
              "    .dataframe tbody tr th {\n",
              "        vertical-align: top;\n",
              "    }\n",
              "\n",
              "    .dataframe thead th {\n",
              "        text-align: right;\n",
              "    }\n",
              "</style>\n",
              "<table border=\"1\" class=\"dataframe\">\n",
              "  <thead>\n",
              "    <tr style=\"text-align: right;\">\n",
              "      <th></th>\n",
              "      <th>Date</th>\n",
              "      <th>Lift</th>\n",
              "      <th>Weight</th>\n",
              "      <th>Projected Reps</th>\n",
              "      <th>Reps</th>\n",
              "      <th>RPE</th>\n",
              "    </tr>\n",
              "  </thead>\n",
              "  <tbody>\n",
              "    <tr>\n",
              "      <th>0</th>\n",
              "      <td>2018-11-28</td>\n",
              "      <td>Competition Squat</td>\n",
              "      <td>155.0</td>\n",
              "      <td>15</td>\n",
              "      <td>5</td>\n",
              "      <td>0</td>\n",
              "    </tr>\n",
              "    <tr>\n",
              "      <th>1</th>\n",
              "      <td>2018-11-28</td>\n",
              "      <td>Competition Deadlift</td>\n",
              "      <td>185.0</td>\n",
              "      <td>15</td>\n",
              "      <td>5</td>\n",
              "      <td>0</td>\n",
              "    </tr>\n",
              "    <tr>\n",
              "      <th>2</th>\n",
              "      <td>2018-11-28</td>\n",
              "      <td>Good Morning</td>\n",
              "      <td>115.0</td>\n",
              "      <td>15</td>\n",
              "      <td>5</td>\n",
              "      <td>0</td>\n",
              "    </tr>\n",
              "    <tr>\n",
              "      <th>3</th>\n",
              "      <td>2018-12-04</td>\n",
              "      <td>Competition Squat</td>\n",
              "      <td>185.0</td>\n",
              "      <td>10</td>\n",
              "      <td>5</td>\n",
              "      <td>5</td>\n",
              "    </tr>\n",
              "    <tr>\n",
              "      <th>4</th>\n",
              "      <td>2018-12-04</td>\n",
              "      <td>Competition Deadlift</td>\n",
              "      <td>240.0</td>\n",
              "      <td>10</td>\n",
              "      <td>5</td>\n",
              "      <td>5</td>\n",
              "    </tr>\n",
              "    <tr>\n",
              "      <th>...</th>\n",
              "      <td>...</td>\n",
              "      <td>...</td>\n",
              "      <td>...</td>\n",
              "      <td>...</td>\n",
              "      <td>...</td>\n",
              "      <td>...</td>\n",
              "    </tr>\n",
              "    <tr>\n",
              "      <th>91</th>\n",
              "      <td>2018-11-20</td>\n",
              "      <td>Competition Deadlift</td>\n",
              "      <td>270.0</td>\n",
              "      <td>10</td>\n",
              "      <td>10</td>\n",
              "      <td>10</td>\n",
              "    </tr>\n",
              "    <tr>\n",
              "      <th>92</th>\n",
              "      <td>2018-09-07</td>\n",
              "      <td>Dumbbell Row</td>\n",
              "      <td>40.0</td>\n",
              "      <td>20</td>\n",
              "      <td>10</td>\n",
              "      <td>0</td>\n",
              "    </tr>\n",
              "    <tr>\n",
              "      <th>93</th>\n",
              "      <td>2018-09-14</td>\n",
              "      <td>Dumbbell Row</td>\n",
              "      <td>50.0</td>\n",
              "      <td>15</td>\n",
              "      <td>10</td>\n",
              "      <td>5</td>\n",
              "    </tr>\n",
              "    <tr>\n",
              "      <th>94</th>\n",
              "      <td>2018-09-21</td>\n",
              "      <td>Dumbbell Row</td>\n",
              "      <td>55.0</td>\n",
              "      <td>11</td>\n",
              "      <td>10</td>\n",
              "      <td>9</td>\n",
              "    </tr>\n",
              "    <tr>\n",
              "      <th>95</th>\n",
              "      <td>2018-09-28</td>\n",
              "      <td>Dumbbell Row</td>\n",
              "      <td>60.0</td>\n",
              "      <td>10</td>\n",
              "      <td>10</td>\n",
              "      <td>10</td>\n",
              "    </tr>\n",
              "  </tbody>\n",
              "</table>\n",
              "<p>96 rows × 6 columns</p>\n",
              "</div>"
            ],
            "text/plain": [
              "          Date                  Lift  Weight  Projected Reps  Reps  RPE\n",
              "0   2018-11-28     Competition Squat   155.0              15     5    0\n",
              "1   2018-11-28  Competition Deadlift   185.0              15     5    0\n",
              "2   2018-11-28          Good Morning   115.0              15     5    0\n",
              "3   2018-12-04     Competition Squat   185.0              10     5    5\n",
              "4   2018-12-04  Competition Deadlift   240.0              10     5    5\n",
              "..         ...                   ...     ...             ...   ...  ...\n",
              "91  2018-11-20  Competition Deadlift   270.0              10    10   10\n",
              "92  2018-09-07          Dumbbell Row    40.0              20    10    0\n",
              "93  2018-09-14          Dumbbell Row    50.0              15    10    5\n",
              "94  2018-09-21          Dumbbell Row    55.0              11    10    9\n",
              "95  2018-09-28          Dumbbell Row    60.0              10    10   10\n",
              "\n",
              "[96 rows x 6 columns]"
            ]
          },
          "metadata": {
            "tags": []
          }
        }
      ]
    },
    {
      "cell_type": "code",
      "metadata": {
        "colab": {
          "base_uri": "https://localhost:8080/"
        },
        "id": "D_gFX2j5TL0P",
        "outputId": "fae0bd47-b38d-4c8a-af5d-7dbe5b4825f7"
      },
      "source": [
        "lifts = list(df['Lift'].unique())\n",
        "liftdfs = dict()\n",
        "for lift in lifts:\n",
        "    liftdfs[lift] = df[df.Lift == lift]\n",
        "print(len(liftdfs))\n",
        "for compLift in ['Competition Squat','Competition Bench Press','Competition Deadlift']:\n",
        "    series = df['Lift'].str.contains(compLift)\n",
        "    found = False\n",
        "    for x in series:\n",
        "        if x:\n",
        "            found = True\n",
        "    if not found:\n",
        "        liftdfs[compLift] = pd.DataFrame([[datetime.date.today().isoformat(),compLift,1,1,1,1]], columns = ['Date','Lift','Weight','Projected Reps','Reps','RPE'])\n",
        "        lifts.append(compLift)"
      ],
      "id": "D_gFX2j5TL0P",
      "execution_count": null,
      "outputs": [
        {
          "output_type": "stream",
          "text": [
            "12\n"
          ],
          "name": "stdout"
        }
      ]
    },
    {
      "cell_type": "markdown",
      "metadata": {
        "id": "KZxtOvfATL0R"
      },
      "source": [
        "We will now calculate a cubic polynomial of best fit for each lift, including accessories. We choose a cubic polynomial because it's the perfect balance between under and overfitting, and it's easy to get a polynomial that is increasing as reps decrease. We graph the trend curves for each of your competition lifts."
      ],
      "id": "KZxtOvfATL0R"
    },
    {
      "cell_type": "code",
      "metadata": {
        "colab": {
          "base_uri": "https://localhost:8080/",
          "height": 475
        },
        "id": "6cCA6PCETL0S",
        "outputId": "8ced42c4-410b-43a6-8e9c-1e72662dd99d"
      },
      "source": [
        "liftModels = dict()\n",
        "liftbasegraphs = dict()\n",
        "liftpolygraphs = dict()\n",
        "\n",
        "for x in lifts:\n",
        "    base = alt.Chart(liftdfs[x],title=x).mark_circle().encode(\n",
        "            alt.X(\"Projected Reps\",sort='descending'), alt.Y(\"Weight\")\n",
        "    )\n",
        "\n",
        "    polynomial = base.transform_regression(\n",
        "            \"Projected Reps\", \"Weight\", method=\"poly\", order=3, as_=[\"Projected Reps\", str(3)]\n",
        "        )\n",
        "\n",
        "\n",
        "    polynomial_fit = [polynomial.mark_line().transform_fold([str(3)], as_=['degree',\"Weight\"])]\n",
        "\n",
        "    X = liftdfs[x].iloc[:,3].values\n",
        "    Y = liftdfs[x].iloc[:,2].values\n",
        "    mymodel = np.poly1d(np.polyfit(X,Y,3))\n",
        "    liftModels[x] = mymodel\n",
        "    liftbasegraphs[x] = base\n",
        "    liftpolygraphs[x] = polynomial_fit\n",
        "\n",
        "    \n",
        "squat = alt.layer(liftbasegraphs[\"Competition Squat\"], *liftpolygraphs[\"Competition Squat\"])\n",
        "dl = alt.layer(liftbasegraphs[\"Competition Deadlift\"], *liftpolygraphs[\"Competition Deadlift\"])\n",
        "bench = alt.layer(liftbasegraphs[\"Competition Bench Press\"], *liftpolygraphs[\"Competition Bench Press\"])\n",
        "alt.hconcat(squat,bench,dl)"
      ],
      "id": "6cCA6PCETL0S",
      "execution_count": null,
      "outputs": [
        {
          "output_type": "stream",
          "text": [
            "/usr/local/lib/python3.7/dist-packages/IPython/core/interactiveshell.py:2882: RankWarning: Polyfit may be poorly conditioned\n",
            "  exec(code_obj, self.user_global_ns, self.user_ns)\n",
            "/usr/local/lib/python3.7/dist-packages/IPython/core/interactiveshell.py:2882: RankWarning: Polyfit may be poorly conditioned\n",
            "  exec(code_obj, self.user_global_ns, self.user_ns)\n"
          ],
          "name": "stderr"
        },
        {
          "output_type": "execute_result",
          "data": {
            "text/plain": [
              "alt.HConcatChart(...)"
            ],
            "text/html": [
              "\n",
              "<div id=\"altair-viz-54db632b493940f696361d2c67a0d81e\"></div>\n",
              "<script type=\"text/javascript\">\n",
              "  (function(spec, embedOpt){\n",
              "    let outputDiv = document.currentScript.previousElementSibling;\n",
              "    if (outputDiv.id !== \"altair-viz-54db632b493940f696361d2c67a0d81e\") {\n",
              "      outputDiv = document.getElementById(\"altair-viz-54db632b493940f696361d2c67a0d81e\");\n",
              "    }\n",
              "    const paths = {\n",
              "      \"vega\": \"https://cdn.jsdelivr.net/npm//vega@5?noext\",\n",
              "      \"vega-lib\": \"https://cdn.jsdelivr.net/npm//vega-lib?noext\",\n",
              "      \"vega-lite\": \"https://cdn.jsdelivr.net/npm//vega-lite@4.8.1?noext\",\n",
              "      \"vega-embed\": \"https://cdn.jsdelivr.net/npm//vega-embed@6?noext\",\n",
              "    };\n",
              "\n",
              "    function loadScript(lib) {\n",
              "      return new Promise(function(resolve, reject) {\n",
              "        var s = document.createElement('script');\n",
              "        s.src = paths[lib];\n",
              "        s.async = true;\n",
              "        s.onload = () => resolve(paths[lib]);\n",
              "        s.onerror = () => reject(`Error loading script: ${paths[lib]}`);\n",
              "        document.getElementsByTagName(\"head\")[0].appendChild(s);\n",
              "      });\n",
              "    }\n",
              "\n",
              "    function showError(err) {\n",
              "      outputDiv.innerHTML = `<div class=\"error\" style=\"color:red;\">${err}</div>`;\n",
              "      throw err;\n",
              "    }\n",
              "\n",
              "    function displayChart(vegaEmbed) {\n",
              "      vegaEmbed(outputDiv, spec, embedOpt)\n",
              "        .catch(err => showError(`Javascript Error: ${err.message}<br>This usually means there's a typo in your chart specification. See the javascript console for the full traceback.`));\n",
              "    }\n",
              "\n",
              "    if(typeof define === \"function\" && define.amd) {\n",
              "      requirejs.config({paths});\n",
              "      require([\"vega-embed\"], displayChart, err => showError(`Error loading script: ${err.message}`));\n",
              "    } else if (typeof vegaEmbed === \"function\") {\n",
              "      displayChart(vegaEmbed);\n",
              "    } else {\n",
              "      loadScript(\"vega\")\n",
              "        .then(() => loadScript(\"vega-lite\"))\n",
              "        .then(() => loadScript(\"vega-embed\"))\n",
              "        .catch(showError)\n",
              "        .then(() => displayChart(vegaEmbed));\n",
              "    }\n",
              "  })({\"config\": {\"view\": {\"continuousWidth\": 400, \"continuousHeight\": 300}}, \"hconcat\": [{\"layer\": [{\"mark\": \"circle\", \"encoding\": {\"x\": {\"type\": \"quantitative\", \"field\": \"Projected Reps\", \"sort\": \"descending\"}, \"y\": {\"type\": \"quantitative\", \"field\": \"Weight\"}}, \"title\": \"Competition Squat\"}, {\"mark\": \"line\", \"encoding\": {\"x\": {\"type\": \"quantitative\", \"field\": \"Projected Reps\", \"sort\": \"descending\"}, \"y\": {\"type\": \"quantitative\", \"field\": \"Weight\"}}, \"title\": \"Competition Squat\", \"transform\": [{\"on\": \"Projected Reps\", \"regression\": \"Weight\", \"method\": \"poly\", \"order\": 3, \"as\": [\"Projected Reps\", \"3\"]}, {\"fold\": [\"3\"], \"as\": [\"degree\", \"Weight\"]}]}], \"data\": {\"name\": \"data-24da8f5f2a9e6c93b57d0eb9a49a4c13\"}}, {\"layer\": [{\"mark\": \"circle\", \"encoding\": {\"x\": {\"type\": \"quantitative\", \"field\": \"Projected Reps\", \"sort\": \"descending\"}, \"y\": {\"type\": \"quantitative\", \"field\": \"Weight\"}}, \"title\": \"Competition Bench Press\"}, {\"mark\": \"line\", \"encoding\": {\"x\": {\"type\": \"quantitative\", \"field\": \"Projected Reps\", \"sort\": \"descending\"}, \"y\": {\"type\": \"quantitative\", \"field\": \"Weight\"}}, \"title\": \"Competition Bench Press\", \"transform\": [{\"on\": \"Projected Reps\", \"regression\": \"Weight\", \"method\": \"poly\", \"order\": 3, \"as\": [\"Projected Reps\", \"3\"]}, {\"fold\": [\"3\"], \"as\": [\"degree\", \"Weight\"]}]}], \"data\": {\"name\": \"data-9442457a91ed959939d6601534beecc2\"}}, {\"layer\": [{\"mark\": \"circle\", \"encoding\": {\"x\": {\"type\": \"quantitative\", \"field\": \"Projected Reps\", \"sort\": \"descending\"}, \"y\": {\"type\": \"quantitative\", \"field\": \"Weight\"}}, \"title\": \"Competition Deadlift\"}, {\"mark\": \"line\", \"encoding\": {\"x\": {\"type\": \"quantitative\", \"field\": \"Projected Reps\", \"sort\": \"descending\"}, \"y\": {\"type\": \"quantitative\", \"field\": \"Weight\"}}, \"title\": \"Competition Deadlift\", \"transform\": [{\"on\": \"Projected Reps\", \"regression\": \"Weight\", \"method\": \"poly\", \"order\": 3, \"as\": [\"Projected Reps\", \"3\"]}, {\"fold\": [\"3\"], \"as\": [\"degree\", \"Weight\"]}]}], \"data\": {\"name\": \"data-e3cbdf271c49deb32f7e9de9ad63245f\"}}], \"$schema\": \"https://vega.github.io/schema/vega-lite/v4.8.1.json\", \"datasets\": {\"data-24da8f5f2a9e6c93b57d0eb9a49a4c13\": [{\"Date\": \"2018-11-28\", \"Lift\": \"Competition Squat\", \"Weight\": 155.0, \"Projected Reps\": 15, \"Reps\": 5, \"RPE\": 0, \"Projected 1RM\": 291.58999873263235}, {\"Date\": \"2018-12-04\", \"Lift\": \"Competition Squat\", \"Weight\": 185.0, \"Projected Reps\": 10, \"Reps\": 5, \"RPE\": 5, \"Projected 1RM\": 261.636112937755}, {\"Date\": \"2018-12-11\", \"Lift\": \"Competition Squat\", \"Weight\": 215.0, \"Projected Reps\": 6, \"Reps\": 5, \"RPE\": 9, \"Projected 1RM\": 271.4922609003435}, {\"Date\": \"2018-12-18\", \"Lift\": \"Competition Squat\", \"Weight\": 240.0, \"Projected Reps\": 5, \"Reps\": 5, \"RPE\": 10, \"Projected 1RM\": 293.03317954805755}, {\"Date\": \"2018-12-25\", \"Lift\": \"Competition Squat\", \"Weight\": 165.0, \"Projected Reps\": 13, \"Reps\": 3, \"RPE\": 0, \"Projected 1RM\": 265.07051136579446}, {\"Date\": \"2019-01-01\", \"Lift\": \"Competition Squat\", \"Weight\": 215.0, \"Projected Reps\": 8, \"Reps\": 3, \"RPE\": 5, \"Projected 1RM\": 287.4112225548039}, {\"Date\": \"2019-01-08\", \"Lift\": \"Competition Squat\", \"Weight\": 240.0, \"Projected Reps\": 4, \"Reps\": 3, \"RPE\": 9, \"Projected 1RM\": 281.77461173238544}, {\"Date\": \"2019-01-15\", \"Lift\": \"Competition Squat\", \"Weight\": 255.0, \"Projected Reps\": 3, \"Reps\": 3, \"RPE\": 10, \"Projected 1RM\": 285.9619185662795}, {\"Date\": \"2019-01-22\", \"Lift\": \"Competition Squat\", \"Weight\": 220.0, \"Projected Reps\": 12, \"Reps\": 2, \"RPE\": 0, \"Projected 1RM\": 335.3932390109406}, {\"Date\": \"2019-01-29\", \"Lift\": \"Competition Squat\", \"Weight\": 245.0, \"Projected Reps\": 6, \"Reps\": 1, \"RPE\": 5, \"Projected 1RM\": 309.37490195620535}, {\"Date\": \"2019-02-05\", \"Lift\": \"Competition Squat\", \"Weight\": 245.0, \"Projected Reps\": 6, \"Reps\": 1, \"RPE\": 5, \"Projected 1RM\": 309.37490195620535}, {\"Date\": \"2019-02-12\", \"Lift\": \"Competition Squat\", \"Weight\": 280.0, \"Projected Reps\": 1, \"Reps\": 1, \"RPE\": 10, \"Projected 1RM\": 280.0}, {\"Date\": \"2019-02-23\", \"Lift\": \"Competition Squat\", \"Weight\": 303.0, \"Projected Reps\": 1, \"Reps\": 1, \"RPE\": 10, \"Projected 1RM\": 303.0}], \"data-9442457a91ed959939d6601534beecc2\": [{\"Date\": \"2018-11-29\", \"Lift\": \"Competition Bench Press\", \"Weight\": 90.0, \"Projected Reps\": 15, \"Reps\": 5, \"RPE\": 0, \"Projected 1RM\": 155.65770979902337}, {\"Date\": \"2018-12-06\", \"Lift\": \"Competition Bench Press\", \"Weight\": 115.0, \"Projected Reps\": 10, \"Reps\": 5, \"RPE\": 5, \"Projected 1RM\": 145.1236086393321}, {\"Date\": \"2018-12-13\", \"Lift\": \"Competition Bench Press\", \"Weight\": 130.0, \"Projected Reps\": 6, \"Reps\": 5, \"RPE\": 9, \"Projected 1RM\": 149.3001362704294}, {\"Date\": \"2018-12-20\", \"Lift\": \"Competition Bench Press\", \"Weight\": 135.0, \"Projected Reps\": 5, \"Reps\": 5, \"RPE\": 10, \"Projected 1RM\": 151.83855322947971}, {\"Date\": \"2018-12-27\", \"Lift\": \"Competition Bench Press\", \"Weight\": 100.0, \"Projected Reps\": 13, \"Reps\": 3, \"RPE\": 0, \"Projected 1RM\": 145.08501823324738}, {\"Date\": \"2019-01-03\", \"Lift\": \"Competition Bench Press\", \"Weight\": 130.0, \"Projected Reps\": 8, \"Reps\": 3, \"RPE\": 5, \"Projected 1RM\": 155.6224887567788}, {\"Date\": \"2019-01-10\", \"Lift\": \"Competition Bench Press\", \"Weight\": 140.0, \"Projected Reps\": 4, \"Reps\": 3, \"RPE\": 9, \"Projected 1RM\": 153.8785126510548}, {\"Date\": \"2019-01-17\", \"Lift\": \"Competition Bench Press\", \"Weight\": 145.0, \"Projected Reps\": 3, \"Reps\": 3, \"RPE\": 10, \"Projected 1RM\": 155.2037784165327}, {\"Date\": \"2019-01-24\", \"Lift\": \"Competition Bench Press\", \"Weight\": 125.0, \"Projected Reps\": 12, \"Reps\": 2, \"RPE\": 0, \"Projected 1RM\": 171.07092056735186}, {\"Date\": \"2019-01-31\", \"Lift\": \"Competition Bench Press\", \"Weight\": 140.0, \"Projected Reps\": 6, \"Reps\": 1, \"RPE\": 5, \"Projected 1RM\": 160.78476213738554}, {\"Date\": \"2019-02-07\", \"Lift\": \"Competition Bench Press\", \"Weight\": 140.0, \"Projected Reps\": 6, \"Reps\": 1, \"RPE\": 5, \"Projected 1RM\": 160.78476213738554}, {\"Date\": \"2019-02-07\", \"Lift\": \"Competition Bench Press\", \"Weight\": 150.0, \"Projected Reps\": 1, \"Reps\": 1, \"RPE\": 10, \"Projected 1RM\": 150.0}, {\"Date\": \"2019-02-14\", \"Lift\": \"Competition Bench Press\", \"Weight\": 150.0, \"Projected Reps\": 1, \"Reps\": 1, \"RPE\": 10, \"Projected 1RM\": 150.0}, {\"Date\": \"2019-02-23\", \"Lift\": \"Competition Bench Press\", \"Weight\": 165.0, \"Projected Reps\": 1, \"Reps\": 1, \"RPE\": 10, \"Projected 1RM\": 165.0}], \"data-e3cbdf271c49deb32f7e9de9ad63245f\": [{\"Date\": \"2018-11-28\", \"Lift\": \"Competition Deadlift\", \"Weight\": 185.0, \"Projected Reps\": 15, \"Reps\": 5, \"RPE\": 0, \"Projected 1RM\": 299.6468682715132}, {\"Date\": \"2018-12-04\", \"Lift\": \"Competition Deadlift\", \"Weight\": 240.0, \"Projected Reps\": 10, \"Reps\": 5, \"RPE\": 5, \"Projected 1RM\": 319.6166103503521}, {\"Date\": \"2018-12-11\", \"Lift\": \"Competition Deadlift\", \"Weight\": 275.0, \"Projected Reps\": 6, \"Reps\": 5, \"RPE\": 9, \"Projected 1RM\": 320.11026169996217}, {\"Date\": \"2018-12-18\", \"Lift\": \"Competition Deadlift\", \"Weight\": 300.0, \"Projected Reps\": 5, \"Reps\": 5, \"RPE\": 10, \"Projected 1RM\": 338.35966934053823}, {\"Date\": \"2018-12-25\", \"Lift\": \"Competition Deadlift\", \"Weight\": 210.0, \"Projected Reps\": 13, \"Reps\": 3, \"RPE\": 0, \"Projected 1RM\": 313.04405215462464}, {\"Date\": \"2019-01-01\", \"Lift\": \"Competition Deadlift\", \"Weight\": 270.0, \"Projected Reps\": 8, \"Reps\": 3, \"RPE\": 5, \"Projected 1RM\": 335.5455424410853}, {\"Date\": \"2019-01-08\", \"Lift\": \"Competition Deadlift\", \"Weight\": 305.0, \"Projected Reps\": 4, \"Reps\": 3, \"RPE\": 9, \"Projected 1RM\": 333.5300067382581}, {\"Date\": \"2019-01-15\", \"Lift\": \"Competition Deadlift\", \"Weight\": 290.0, \"Projected Reps\": 3, \"Reps\": 3, \"RPE\": 10, \"Projected 1RM\": 307.6574590770781}, {\"Date\": \"2019-02-23\", \"Lift\": \"Competition Deadlift\", \"Weight\": 341.0, \"Projected Reps\": 1, \"Reps\": 1, \"RPE\": 10, \"Projected 1RM\": 341.0}, {\"Date\": \"2018-09-06\", \"Lift\": \"Competition Deadlift\", \"Weight\": 155.0, \"Projected Reps\": 20, \"Reps\": 10, \"RPE\": 0, \"Projected 1RM\": 321.99430339393757}, {\"Date\": \"2018-09-13\", \"Lift\": \"Competition Deadlift\", \"Weight\": 200.0, \"Projected Reps\": 15, \"Reps\": 10, \"RPE\": 5, \"Projected 1RM\": 323.9425602935277}, {\"Date\": \"2018-09-20\", \"Lift\": \"Competition Deadlift\", \"Weight\": 235.0, \"Projected Reps\": 11, \"Reps\": 10, \"RPE\": 9, \"Projected 1RM\": 324.50853869699785}, {\"Date\": \"2018-09-27\", \"Lift\": \"Competition Deadlift\", \"Weight\": 255.0, \"Projected Reps\": 10, \"Reps\": 10, \"RPE\": 10, \"Projected 1RM\": 339.5926484972492}, {\"Date\": \"2018-10-30\", \"Lift\": \"Competition Deadlift\", \"Weight\": 165.0, \"Projected Reps\": 20, \"Reps\": 10, \"RPE\": 0, \"Projected 1RM\": 342.7681294193529}, {\"Date\": \"2018-11-06\", \"Lift\": \"Competition Deadlift\", \"Weight\": 225.0, \"Projected Reps\": 15, \"Reps\": 10, \"RPE\": 5, \"Projected 1RM\": 364.4353803302188}, {\"Date\": \"2018-11-13\", \"Lift\": \"Competition Deadlift\", \"Weight\": 240.0, \"Projected Reps\": 11, \"Reps\": 10, \"RPE\": 9, \"Projected 1RM\": 331.41297569055104}, {\"Date\": \"2018-11-20\", \"Lift\": \"Competition Deadlift\", \"Weight\": 270.0, \"Projected Reps\": 10, \"Reps\": 10, \"RPE\": 10, \"Projected 1RM\": 359.56868664414617}]}}, {\"mode\": \"vega-lite\"});\n",
              "</script>"
            ]
          },
          "metadata": {
            "tags": []
          },
          "execution_count": 84
        }
      ]
    },
    {
      "cell_type": "markdown",
      "metadata": {
        "id": "bwvnbyz_TL0U"
      },
      "source": [
        "Now we can use the polynomial of best fit to determine what weight you should lift for a given numbers of reps and given RPE in order to achieve your next competition goal. If you use a similar macrocycle as last time, this should be a good weight for you. After you do your workout, come back and enter your new workout data at the top of the page (though you need to keep the page open, for now). We'll adjust your trend curves as you go. If you're always missing your lifts, your goal is too high. If your workouts are too easy, your goal is too low."
      ],
      "id": "bwvnbyz_TL0U"
    },
    {
      "cell_type": "code",
      "metadata": {
        "colab": {
          "base_uri": "https://localhost:8080/",
          "height": 79,
          "referenced_widgets": [
            "ee06b914ea614ac182bfbea1fc4eb2f6",
            "f1147be86a7c4391bc969f4b97eba2b9",
            "4f1076d262184943b848ecb02b881a3a",
            "814b92d3898c47c2bc033e5d3cd5490d",
            "4c7e816deea74391b2a33beaed4f9c64",
            "fbd77aacf1454fec935ca53e4108ca39"
          ]
        },
        "id": "6mYpUmVqTL0W",
        "outputId": "a438a701-c28e-48df-b2a9-b4d1067ae574"
      },
      "source": [
        "txtsl1 = widgets.Text(\n",
        "  placeholder='What lift to set goal for?',\n",
        "  description='Lift'\n",
        "  )\n",
        "display(txtsl1)\n",
        "weight1 = widgets.FloatText(\n",
        " value=100,\n",
        " description='New 1RM Goal'\n",
        " )\n",
        "display(weight1)"
      ],
      "id": "6mYpUmVqTL0W",
      "execution_count": null,
      "outputs": [
        {
          "output_type": "display_data",
          "data": {
            "application/vnd.jupyter.widget-view+json": {
              "model_id": "ee06b914ea614ac182bfbea1fc4eb2f6",
              "version_minor": 0,
              "version_major": 2
            },
            "text/plain": [
              "Text(value='', description='Lift', placeholder='What lift to set goal for?')"
            ]
          },
          "metadata": {
            "tags": []
          }
        },
        {
          "output_type": "display_data",
          "data": {
            "application/vnd.jupyter.widget-view+json": {
              "model_id": "814b92d3898c47c2bc033e5d3cd5490d",
              "version_minor": 0,
              "version_major": 2
            },
            "text/plain": [
              "FloatText(value=100.0, description='New 1RM Goal')"
            ]
          },
          "metadata": {
            "tags": []
          }
        }
      ]
    },
    {
      "cell_type": "code",
      "metadata": {
        "scrolled": true,
        "colab": {
          "base_uri": "https://localhost:8080/",
          "height": 96,
          "referenced_widgets": [
            "4b813868b36a417e88e33e3f1c01e8e5",
            "29349c563d214acb92f336f64df78eda",
            "962f95cb09f74ecdbb320673cf523606",
            "e62e79dd2a0f4e92b6538cdd9974a974",
            "b69c0e8c80bf4479b46b95f9c342851d",
            "2fc7fac301f847b8881a1284c56205bb"
          ]
        },
        "id": "AKF39b8kTL0X",
        "outputId": "ac801ec7-12a9-4501-801e-a2d5783f042a"
      },
      "source": [
        "lift = txtsl1.value\n",
        "goal = weight1.value\n",
        "value = liftModels[lift](1)\n",
        "ratio = float(goal)/float(value)\n",
        "goalmodel = liftModels[lift] * ratio\n",
        "print('Now what training set do you have today?')\n",
        "Reps1 = widgets.IntText(\n",
        "  value=5,\n",
        "  description='Reps'\n",
        "  )\n",
        "display(Reps1)\n",
        "RPEslider1 = widgets.IntSlider(\n",
        " value=7, # default value\n",
        " min=0, # min value\n",
        " max=10, # max value\n",
        " step=1, # increment size\n",
        " description='RPE' # slider label\n",
        " )\n",
        "display(RPEslider1) # display the slider"
      ],
      "id": "AKF39b8kTL0X",
      "execution_count": null,
      "outputs": [
        {
          "output_type": "stream",
          "text": [
            "Now what training set do you have today?\n"
          ],
          "name": "stdout"
        },
        {
          "output_type": "display_data",
          "data": {
            "application/vnd.jupyter.widget-view+json": {
              "model_id": "4b813868b36a417e88e33e3f1c01e8e5",
              "version_minor": 0,
              "version_major": 2
            },
            "text/plain": [
              "IntText(value=5, description='Reps')"
            ]
          },
          "metadata": {
            "tags": []
          }
        },
        {
          "output_type": "display_data",
          "data": {
            "application/vnd.jupyter.widget-view+json": {
              "model_id": "e62e79dd2a0f4e92b6538cdd9974a974",
              "version_minor": 0,
              "version_major": 2
            },
            "text/plain": [
              "IntSlider(value=7, description='RPE', max=10)"
            ]
          },
          "metadata": {
            "tags": []
          }
        }
      ]
    },
    {
      "cell_type": "code",
      "metadata": {
        "colab": {
          "base_uri": "https://localhost:8080/"
        },
        "id": "BBMyCQFnTL0a",
        "outputId": "56ca841d-561f-49a6-9df8-b4948caca819"
      },
      "source": [
        "reps = Reps1.value\n",
        "rpe = RPEslider1.value\n",
        "projectedreps = reps - rpe + 10\n",
        "print(\"You should lift \"+str(goalmodel(projectedreps))+\" for \"+str(reps)+\" at RPE \"+str(rpe)+\" on \"+lift+\".\")"
      ],
      "id": "BBMyCQFnTL0a",
      "execution_count": null,
      "outputs": [
        {
          "output_type": "stream",
          "text": [
            "You should lift 270.27656090736696 for 5 at RPE 10 on Competition Squat.\n"
          ],
          "name": "stdout"
        }
      ]
    },
    {
      "cell_type": "markdown",
      "metadata": {
        "id": "I8-ZJj5qTL0b"
      },
      "source": [
        "You can track your Projected 1RM for any lift over time, to see if you're making progress. This tells you whether your current training is effective for that lift."
      ],
      "id": "I8-ZJj5qTL0b"
    },
    {
      "cell_type": "code",
      "metadata": {
        "colab": {
          "base_uri": "https://localhost:8080/",
          "height": 49,
          "referenced_widgets": [
            "e4f7f1518c6d476d8d98bdfcaf46a204",
            "3acc0971e5ac4ef5b994e70f60cdaa25",
            "98c862e9ad3d4b1a92142693cfa4e182"
          ]
        },
        "id": "QnrhosE0TL0c",
        "outputId": "aaf47c46-2545-4f80-c3b0-51020587e767"
      },
      "source": [
        "txtsl2 = widgets.Text(\n",
        "  placeholder='Lift to track progress for',\n",
        "  description='Lift'\n",
        "  )\n",
        "display(txtsl2)"
      ],
      "id": "QnrhosE0TL0c",
      "execution_count": null,
      "outputs": [
        {
          "output_type": "display_data",
          "data": {
            "application/vnd.jupyter.widget-view+json": {
              "model_id": "e4f7f1518c6d476d8d98bdfcaf46a204",
              "version_minor": 0,
              "version_major": 2
            },
            "text/plain": [
              "Text(value='', description='Lift', placeholder='Lift to track progress for')"
            ]
          },
          "metadata": {
            "tags": []
          }
        }
      ]
    },
    {
      "cell_type": "code",
      "metadata": {
        "colab": {
          "base_uri": "https://localhost:8080/",
          "height": 487
        },
        "id": "HAfCOBlSTL0e",
        "outputId": "a3cfb54f-37d2-492e-9c34-4f9291ddb739"
      },
      "source": [
        "lift = txtsl2.value\n",
        "liftdfs[lift]['Projected 1RM'] =  liftModels[lift](1) * liftdfs[lift]['Weight']/liftModels[lift](liftdfs[lift]['Projected Reps'])\n",
        "small = liftdfs[lift]['Projected 1RM'].min()\n",
        "big = liftdfs[lift]['Projected 1RM'].max()\n",
        "alt.Chart(liftdfs[lift], title=lift).mark_circle().encode(\n",
        "        alt.X('Date:T', timeUnit='yearmonthdate', title = 'Date'), alt.Y(\"Projected 1RM\", scale = alt.Scale(domain = [small-10,big+10])), alt.Color(\"RPE\")\n",
        ")\n"
      ],
      "id": "HAfCOBlSTL0e",
      "execution_count": null,
      "outputs": [
        {
          "output_type": "stream",
          "text": [
            "/usr/local/lib/python3.7/dist-packages/ipykernel_launcher.py:2: SettingWithCopyWarning: \n",
            "A value is trying to be set on a copy of a slice from a DataFrame.\n",
            "Try using .loc[row_indexer,col_indexer] = value instead\n",
            "\n",
            "See the caveats in the documentation: https://pandas.pydata.org/pandas-docs/stable/user_guide/indexing.html#returning-a-view-versus-a-copy\n",
            "  \n"
          ],
          "name": "stderr"
        },
        {
          "output_type": "execute_result",
          "data": {
            "text/plain": [
              "alt.Chart(...)"
            ],
            "text/html": [
              "\n",
              "<div id=\"altair-viz-3dda628653594cc1a51c96a8a776d6b0\"></div>\n",
              "<script type=\"text/javascript\">\n",
              "  (function(spec, embedOpt){\n",
              "    let outputDiv = document.currentScript.previousElementSibling;\n",
              "    if (outputDiv.id !== \"altair-viz-3dda628653594cc1a51c96a8a776d6b0\") {\n",
              "      outputDiv = document.getElementById(\"altair-viz-3dda628653594cc1a51c96a8a776d6b0\");\n",
              "    }\n",
              "    const paths = {\n",
              "      \"vega\": \"https://cdn.jsdelivr.net/npm//vega@5?noext\",\n",
              "      \"vega-lib\": \"https://cdn.jsdelivr.net/npm//vega-lib?noext\",\n",
              "      \"vega-lite\": \"https://cdn.jsdelivr.net/npm//vega-lite@4.8.1?noext\",\n",
              "      \"vega-embed\": \"https://cdn.jsdelivr.net/npm//vega-embed@6?noext\",\n",
              "    };\n",
              "\n",
              "    function loadScript(lib) {\n",
              "      return new Promise(function(resolve, reject) {\n",
              "        var s = document.createElement('script');\n",
              "        s.src = paths[lib];\n",
              "        s.async = true;\n",
              "        s.onload = () => resolve(paths[lib]);\n",
              "        s.onerror = () => reject(`Error loading script: ${paths[lib]}`);\n",
              "        document.getElementsByTagName(\"head\")[0].appendChild(s);\n",
              "      });\n",
              "    }\n",
              "\n",
              "    function showError(err) {\n",
              "      outputDiv.innerHTML = `<div class=\"error\" style=\"color:red;\">${err}</div>`;\n",
              "      throw err;\n",
              "    }\n",
              "\n",
              "    function displayChart(vegaEmbed) {\n",
              "      vegaEmbed(outputDiv, spec, embedOpt)\n",
              "        .catch(err => showError(`Javascript Error: ${err.message}<br>This usually means there's a typo in your chart specification. See the javascript console for the full traceback.`));\n",
              "    }\n",
              "\n",
              "    if(typeof define === \"function\" && define.amd) {\n",
              "      requirejs.config({paths});\n",
              "      require([\"vega-embed\"], displayChart, err => showError(`Error loading script: ${err.message}`));\n",
              "    } else if (typeof vegaEmbed === \"function\") {\n",
              "      displayChart(vegaEmbed);\n",
              "    } else {\n",
              "      loadScript(\"vega\")\n",
              "        .then(() => loadScript(\"vega-lite\"))\n",
              "        .then(() => loadScript(\"vega-embed\"))\n",
              "        .catch(showError)\n",
              "        .then(() => displayChart(vegaEmbed));\n",
              "    }\n",
              "  })({\"config\": {\"view\": {\"continuousWidth\": 400, \"continuousHeight\": 300}}, \"data\": {\"name\": \"data-24da8f5f2a9e6c93b57d0eb9a49a4c13\"}, \"mark\": \"circle\", \"encoding\": {\"color\": {\"type\": \"quantitative\", \"field\": \"RPE\"}, \"x\": {\"type\": \"temporal\", \"field\": \"Date\", \"timeUnit\": \"yearmonthdate\", \"title\": \"Date\"}, \"y\": {\"type\": \"quantitative\", \"field\": \"Projected 1RM\", \"scale\": {\"domain\": [251.636112937755, 345.3932390109406]}}}, \"title\": \"Competition Squat\", \"$schema\": \"https://vega.github.io/schema/vega-lite/v4.8.1.json\", \"datasets\": {\"data-24da8f5f2a9e6c93b57d0eb9a49a4c13\": [{\"Date\": \"2018-11-28\", \"Lift\": \"Competition Squat\", \"Weight\": 155.0, \"Projected Reps\": 15, \"Reps\": 5, \"RPE\": 0, \"Projected 1RM\": 291.58999873263235}, {\"Date\": \"2018-12-04\", \"Lift\": \"Competition Squat\", \"Weight\": 185.0, \"Projected Reps\": 10, \"Reps\": 5, \"RPE\": 5, \"Projected 1RM\": 261.636112937755}, {\"Date\": \"2018-12-11\", \"Lift\": \"Competition Squat\", \"Weight\": 215.0, \"Projected Reps\": 6, \"Reps\": 5, \"RPE\": 9, \"Projected 1RM\": 271.4922609003435}, {\"Date\": \"2018-12-18\", \"Lift\": \"Competition Squat\", \"Weight\": 240.0, \"Projected Reps\": 5, \"Reps\": 5, \"RPE\": 10, \"Projected 1RM\": 293.03317954805755}, {\"Date\": \"2018-12-25\", \"Lift\": \"Competition Squat\", \"Weight\": 165.0, \"Projected Reps\": 13, \"Reps\": 3, \"RPE\": 0, \"Projected 1RM\": 265.07051136579446}, {\"Date\": \"2019-01-01\", \"Lift\": \"Competition Squat\", \"Weight\": 215.0, \"Projected Reps\": 8, \"Reps\": 3, \"RPE\": 5, \"Projected 1RM\": 287.4112225548039}, {\"Date\": \"2019-01-08\", \"Lift\": \"Competition Squat\", \"Weight\": 240.0, \"Projected Reps\": 4, \"Reps\": 3, \"RPE\": 9, \"Projected 1RM\": 281.77461173238544}, {\"Date\": \"2019-01-15\", \"Lift\": \"Competition Squat\", \"Weight\": 255.0, \"Projected Reps\": 3, \"Reps\": 3, \"RPE\": 10, \"Projected 1RM\": 285.9619185662795}, {\"Date\": \"2019-01-22\", \"Lift\": \"Competition Squat\", \"Weight\": 220.0, \"Projected Reps\": 12, \"Reps\": 2, \"RPE\": 0, \"Projected 1RM\": 335.3932390109406}, {\"Date\": \"2019-01-29\", \"Lift\": \"Competition Squat\", \"Weight\": 245.0, \"Projected Reps\": 6, \"Reps\": 1, \"RPE\": 5, \"Projected 1RM\": 309.37490195620535}, {\"Date\": \"2019-02-05\", \"Lift\": \"Competition Squat\", \"Weight\": 245.0, \"Projected Reps\": 6, \"Reps\": 1, \"RPE\": 5, \"Projected 1RM\": 309.37490195620535}, {\"Date\": \"2019-02-12\", \"Lift\": \"Competition Squat\", \"Weight\": 280.0, \"Projected Reps\": 1, \"Reps\": 1, \"RPE\": 10, \"Projected 1RM\": 280.0}, {\"Date\": \"2019-02-23\", \"Lift\": \"Competition Squat\", \"Weight\": 303.0, \"Projected Reps\": 1, \"Reps\": 1, \"RPE\": 10, \"Projected 1RM\": 303.0}]}}, {\"mode\": \"vega-lite\"});\n",
              "</script>"
            ]
          },
          "metadata": {
            "tags": []
          },
          "execution_count": 89
        }
      ]
    },
    {
      "cell_type": "markdown",
      "metadata": {
        "id": "lDbr-lr-TL0f"
      },
      "source": [
        "**Decide if an accessory lift is useful for a main lift**\n",
        "\n",
        "You can plot your Projected 1RM for an accessory against a main lift to see if that accessory is helping your main lift. If the red line is sloping downward, you might consider swapping out that accessory."
      ],
      "id": "lDbr-lr-TL0f"
    },
    {
      "cell_type": "code",
      "metadata": {
        "scrolled": true,
        "colab": {
          "base_uri": "https://localhost:8080/",
          "height": 79,
          "referenced_widgets": [
            "a4082ac25e9e422a9e7dcf3daa9b7ac2",
            "4975f56074c3439a9cf6180bfbfec66f",
            "c16a1c2e27ea424d8c0f5663b37a0321",
            "589de92d5dfc40b2ac279ff31b904d92",
            "7d996a933efd4f0081c0f4c8808648b8",
            "5411fac4437d497d861336e76af9d4e7"
          ]
        },
        "id": "daGsBSD6TL0g",
        "outputId": "fc93555d-deb2-4f1a-f376-831bc7974be1"
      },
      "source": [
        "dropD = widgets.Dropdown(\n",
        " options=['Competition Squat','Competition Bench Press','Competition Deadlift'],\n",
        " description='Main Lift',\n",
        " disabled=False,\n",
        " )\n",
        "display(dropD)\n",
        "\n",
        "txtsl3 = widgets.Text(\n",
        "  placeholder='Accessory',\n",
        "  description='Accessory'\n",
        "  )\n",
        "display(txtsl3)"
      ],
      "id": "daGsBSD6TL0g",
      "execution_count": null,
      "outputs": [
        {
          "output_type": "display_data",
          "data": {
            "application/vnd.jupyter.widget-view+json": {
              "model_id": "a4082ac25e9e422a9e7dcf3daa9b7ac2",
              "version_minor": 0,
              "version_major": 2
            },
            "text/plain": [
              "Dropdown(description='Main Lift', options=('Competition Squat', 'Competition Bench Press', 'Competition Deadli…"
            ]
          },
          "metadata": {
            "tags": []
          }
        },
        {
          "output_type": "display_data",
          "data": {
            "application/vnd.jupyter.widget-view+json": {
              "model_id": "589de92d5dfc40b2ac279ff31b904d92",
              "version_minor": 0,
              "version_major": 2
            },
            "text/plain": [
              "Text(value='', description='Accessory', placeholder='Accessory')"
            ]
          },
          "metadata": {
            "tags": []
          }
        }
      ]
    },
    {
      "cell_type": "code",
      "metadata": {
        "colab": {
          "base_uri": "https://localhost:8080/"
        },
        "id": "RWNu16F-TL0h",
        "outputId": "8b52c410-1008-472e-fecb-770d879fe3ed"
      },
      "source": [
        "mainLift = dropD.value\n",
        "accessory = txtsl3.value\n",
        "\n",
        "liftdfs[mainLift]['Projected 1RM'] =  liftModels[mainLift](1) * liftdfs[mainLift]['Weight']/liftModels[mainLift](liftdfs[mainLift]['Projected Reps'])\n",
        "liftdfs[accessory]['Projected 1RM'] =  liftModels[accessory](1) * liftdfs[accessory]['Weight']/liftModels[accessory](liftdfs[accessory]['Projected Reps'])\n"
      ],
      "id": "RWNu16F-TL0h",
      "execution_count": null,
      "outputs": [
        {
          "output_type": "stream",
          "text": [
            "/usr/local/lib/python3.7/dist-packages/ipykernel_launcher.py:4: SettingWithCopyWarning: \n",
            "A value is trying to be set on a copy of a slice from a DataFrame.\n",
            "Try using .loc[row_indexer,col_indexer] = value instead\n",
            "\n",
            "See the caveats in the documentation: https://pandas.pydata.org/pandas-docs/stable/user_guide/indexing.html#returning-a-view-versus-a-copy\n",
            "  after removing the cwd from sys.path.\n",
            "/usr/local/lib/python3.7/dist-packages/ipykernel_launcher.py:5: SettingWithCopyWarning: \n",
            "A value is trying to be set on a copy of a slice from a DataFrame.\n",
            "Try using .loc[row_indexer,col_indexer] = value instead\n",
            "\n",
            "See the caveats in the documentation: https://pandas.pydata.org/pandas-docs/stable/user_guide/indexing.html#returning-a-view-versus-a-copy\n",
            "  \"\"\"\n"
          ],
          "name": "stderr"
        }
      ]
    },
    {
      "cell_type": "code",
      "metadata": {
        "id": "UFhyjXxNTL0i"
      },
      "source": [
        "combineddf = liftdfs[mainLift]\n",
        "extradf=liftdfs[accessory]\n",
        "newDf = combineddf.merge(extradf,how='outer',on='Date',suffixes=(' Main',' Acc'))\n",
        "fixedDf = newDf.interpolate(method='linear',limit_direction='forward',axis=0)"
      ],
      "id": "UFhyjXxNTL0i",
      "execution_count": null,
      "outputs": []
    },
    {
      "cell_type": "code",
      "metadata": {
        "colab": {
          "base_uri": "https://localhost:8080/",
          "height": 385
        },
        "id": "WExPJx5VTL0k",
        "outputId": "1a1bfe0f-385c-41f6-a341-1fdad4443f45"
      },
      "source": [
        "smallx = fixedDf['Projected 1RM Main'].min()\n",
        "bigx = fixedDf['Projected 1RM Main'].max()\n",
        "smally = fixedDf['Projected 1RM Acc'].min()\n",
        "bigy = fixedDf['Projected 1RM Acc'].max()\n",
        "\n",
        "base = alt.Chart(fixedDf,title=mainLift+' versus '+accessory).mark_circle().encode(\n",
        "            alt.X(\"Projected 1RM Main\", title=\"Projected 1RM for \"+mainLift, scale=alt.Scale(domain = [smallx-10,bigx+10])), alt.Y(\"Projected 1RM Acc\", title=\"Projected 1RM for \"+accessory, scale = alt.Scale(domain=[smally-10,bigy+10])))\n",
        "\n",
        "\n",
        "line = base.transform_regression(\"Projected 1RM Main\", \"Projected 1RM Acc\",method=\"linear\"\n",
        ").mark_line(color=\"red\")\n",
        "\n",
        "alt.layer(base,line)"
      ],
      "id": "WExPJx5VTL0k",
      "execution_count": null,
      "outputs": [
        {
          "output_type": "execute_result",
          "data": {
            "text/plain": [
              "alt.LayerChart(...)"
            ],
            "text/html": [
              "\n",
              "<div id=\"altair-viz-5057059b6cb64b50b3b4a387b8c708af\"></div>\n",
              "<script type=\"text/javascript\">\n",
              "  (function(spec, embedOpt){\n",
              "    let outputDiv = document.currentScript.previousElementSibling;\n",
              "    if (outputDiv.id !== \"altair-viz-5057059b6cb64b50b3b4a387b8c708af\") {\n",
              "      outputDiv = document.getElementById(\"altair-viz-5057059b6cb64b50b3b4a387b8c708af\");\n",
              "    }\n",
              "    const paths = {\n",
              "      \"vega\": \"https://cdn.jsdelivr.net/npm//vega@5?noext\",\n",
              "      \"vega-lib\": \"https://cdn.jsdelivr.net/npm//vega-lib?noext\",\n",
              "      \"vega-lite\": \"https://cdn.jsdelivr.net/npm//vega-lite@4.8.1?noext\",\n",
              "      \"vega-embed\": \"https://cdn.jsdelivr.net/npm//vega-embed@6?noext\",\n",
              "    };\n",
              "\n",
              "    function loadScript(lib) {\n",
              "      return new Promise(function(resolve, reject) {\n",
              "        var s = document.createElement('script');\n",
              "        s.src = paths[lib];\n",
              "        s.async = true;\n",
              "        s.onload = () => resolve(paths[lib]);\n",
              "        s.onerror = () => reject(`Error loading script: ${paths[lib]}`);\n",
              "        document.getElementsByTagName(\"head\")[0].appendChild(s);\n",
              "      });\n",
              "    }\n",
              "\n",
              "    function showError(err) {\n",
              "      outputDiv.innerHTML = `<div class=\"error\" style=\"color:red;\">${err}</div>`;\n",
              "      throw err;\n",
              "    }\n",
              "\n",
              "    function displayChart(vegaEmbed) {\n",
              "      vegaEmbed(outputDiv, spec, embedOpt)\n",
              "        .catch(err => showError(`Javascript Error: ${err.message}<br>This usually means there's a typo in your chart specification. See the javascript console for the full traceback.`));\n",
              "    }\n",
              "\n",
              "    if(typeof define === \"function\" && define.amd) {\n",
              "      requirejs.config({paths});\n",
              "      require([\"vega-embed\"], displayChart, err => showError(`Error loading script: ${err.message}`));\n",
              "    } else if (typeof vegaEmbed === \"function\") {\n",
              "      displayChart(vegaEmbed);\n",
              "    } else {\n",
              "      loadScript(\"vega\")\n",
              "        .then(() => loadScript(\"vega-lite\"))\n",
              "        .then(() => loadScript(\"vega-embed\"))\n",
              "        .catch(showError)\n",
              "        .then(() => displayChart(vegaEmbed));\n",
              "    }\n",
              "  })({\"config\": {\"view\": {\"continuousWidth\": 400, \"continuousHeight\": 300}}, \"layer\": [{\"mark\": \"circle\", \"encoding\": {\"x\": {\"type\": \"quantitative\", \"field\": \"Projected 1RM Main\", \"scale\": {\"domain\": [251.636112937755, 345.3932390109406]}, \"title\": \"Projected 1RM for Competition Squat\"}, \"y\": {\"type\": \"quantitative\", \"field\": \"Projected 1RM Acc\", \"scale\": {\"domain\": [292.96266794211544, 431.51327713685623]}, \"title\": \"Projected 1RM for Good Morning\"}}, \"title\": \"Competition Squat versus Good Morning\"}, {\"mark\": {\"type\": \"line\", \"color\": \"red\"}, \"encoding\": {\"x\": {\"type\": \"quantitative\", \"field\": \"Projected 1RM Main\", \"scale\": {\"domain\": [251.636112937755, 345.3932390109406]}, \"title\": \"Projected 1RM for Competition Squat\"}, \"y\": {\"type\": \"quantitative\", \"field\": \"Projected 1RM Acc\", \"scale\": {\"domain\": [292.96266794211544, 431.51327713685623]}, \"title\": \"Projected 1RM for Good Morning\"}}, \"title\": \"Competition Squat versus Good Morning\", \"transform\": [{\"on\": \"Projected 1RM Main\", \"regression\": \"Projected 1RM Acc\", \"method\": \"linear\"}]}], \"data\": {\"name\": \"data-5409836e1ed886578e87cb959ae90fe0\"}, \"$schema\": \"https://vega.github.io/schema/vega-lite/v4.8.1.json\", \"datasets\": {\"data-5409836e1ed886578e87cb959ae90fe0\": [{\"Date\": \"2018-11-28\", \"Lift Main\": \"Competition Squat\", \"Weight Main\": 155.0, \"Projected Reps Main\": 15.0, \"Reps Main\": 5.0, \"RPE Main\": 0.0, \"Projected 1RM Main\": 291.58999873263235, \"Lift Acc\": \"Good Morning\", \"Weight Acc\": 115.0, \"Projected Reps Acc\": 15.0, \"Reps Acc\": 5.0, \"RPE Acc\": 0.0, \"Projected 1RM Acc\": 402.7028441682616}, {\"Date\": \"2018-12-04\", \"Lift Main\": \"Competition Squat\", \"Weight Main\": 185.0, \"Projected Reps Main\": 10.0, \"Reps Main\": 5.0, \"RPE Main\": 5.0, \"Projected 1RM Main\": 261.636112937755, \"Lift Acc\": \"Good Morning\", \"Weight Acc\": 115.0, \"Projected Reps Acc\": 10.0, \"Reps Acc\": 5.0, \"RPE Acc\": 5.0, \"Projected 1RM Acc\": 302.96266794211544}, {\"Date\": \"2018-12-11\", \"Lift Main\": \"Competition Squat\", \"Weight Main\": 215.0, \"Projected Reps Main\": 6.0, \"Reps Main\": 5.0, \"RPE Main\": 9.0, \"Projected 1RM Main\": 271.4922609003435, \"Lift Acc\": \"Good Morning\", \"Weight Acc\": 130.0, \"Projected Reps Acc\": 6.0, \"Reps Acc\": 5.0, \"RPE Acc\": 9.0, \"Projected 1RM Acc\": 352.9305392023985}, {\"Date\": \"2018-12-18\", \"Lift Main\": \"Competition Squat\", \"Weight Main\": 240.0, \"Projected Reps Main\": 5.0, \"Reps Main\": 5.0, \"RPE Main\": 10.0, \"Projected 1RM Main\": 293.03317954805755, \"Lift Acc\": \"Good Morning\", \"Weight Acc\": 140.0, \"Projected Reps Acc\": 5.0, \"Reps Acc\": 5.0, \"RPE Acc\": 10.0, \"Projected 1RM Acc\": 338.6958242693493}, {\"Date\": \"2018-12-25\", \"Lift Main\": \"Competition Squat\", \"Weight Main\": 165.0, \"Projected Reps Main\": 13.0, \"Reps Main\": 3.0, \"RPE Main\": 0.0, \"Projected 1RM Main\": 265.07051136579446, \"Lift Acc\": null, \"Weight Acc\": 131.0, \"Projected Reps Acc\": 7.0, \"Reps Acc\": 5.0, \"RPE Acc\": 8.0, \"Projected 1RM Acc\": 337.4901727998009}, {\"Date\": \"2019-01-01\", \"Lift Main\": \"Competition Squat\", \"Weight Main\": 215.0, \"Projected Reps Main\": 8.0, \"Reps Main\": 3.0, \"RPE Main\": 5.0, \"Projected 1RM Main\": 287.4112225548039, \"Lift Acc\": null, \"Weight Acc\": 122.0, \"Projected Reps Acc\": 9.0, \"Reps Acc\": 5.0, \"RPE Acc\": 6.0, \"Projected 1RM Acc\": 336.2845213302525}, {\"Date\": \"2019-01-08\", \"Lift Main\": \"Competition Squat\", \"Weight Main\": 240.0, \"Projected Reps Main\": 4.0, \"Reps Main\": 3.0, \"RPE Main\": 9.0, \"Projected 1RM Main\": 281.77461173238544, \"Lift Acc\": null, \"Weight Acc\": 113.0, \"Projected Reps Acc\": 11.0, \"Reps Acc\": 5.0, \"RPE Acc\": 4.0, \"Projected 1RM Acc\": 335.0788698607042}, {\"Date\": \"2019-01-15\", \"Lift Main\": \"Competition Squat\", \"Weight Main\": 255.0, \"Projected Reps Main\": 3.0, \"Reps Main\": 3.0, \"RPE Main\": 10.0, \"Projected 1RM Main\": 285.9619185662795, \"Lift Acc\": null, \"Weight Acc\": 104.0, \"Projected Reps Acc\": 13.0, \"Reps Acc\": 5.0, \"RPE Acc\": 2.0, \"Projected 1RM Acc\": 333.8732183911558}, {\"Date\": \"2019-01-22\", \"Lift Main\": \"Competition Squat\", \"Weight Main\": 220.0, \"Projected Reps Main\": 12.0, \"Reps Main\": 2.0, \"RPE Main\": 0.0, \"Projected 1RM Main\": 335.3932390109406, \"Lift Acc\": \"Good Morning\", \"Weight Acc\": 95.0, \"Projected Reps Acc\": 15.0, \"Reps Acc\": 5.0, \"RPE Acc\": 0.0, \"Projected 1RM Acc\": 332.6675669216074}, {\"Date\": \"2019-01-29\", \"Lift Main\": \"Competition Squat\", \"Weight Main\": 245.0, \"Projected Reps Main\": 6.0, \"Reps Main\": 1.0, \"RPE Main\": 5.0, \"Projected 1RM Main\": 309.37490195620535, \"Lift Acc\": \"Good Morning\", \"Weight Acc\": 145.0, \"Projected Reps Acc\": 10.0, \"Reps Acc\": 5.0, \"RPE Acc\": 5.0, \"Projected 1RM Acc\": 381.996407405276}, {\"Date\": \"2019-02-05\", \"Lift Main\": \"Competition Squat\", \"Weight Main\": 245.0, \"Projected Reps Main\": 6.0, \"Reps Main\": 1.0, \"RPE Main\": 5.0, \"Projected 1RM Main\": 309.37490195620535, \"Lift Acc\": \"Good Morning\", \"Weight Acc\": 160.0, \"Projected Reps Acc\": 10.0, \"Reps Acc\": 5.0, \"RPE Acc\": 5.0, \"Projected 1RM Acc\": 421.51327713685623}, {\"Date\": \"2019-02-12\", \"Lift Main\": \"Competition Squat\", \"Weight Main\": 280.0, \"Projected Reps Main\": 1.0, \"Reps Main\": 1.0, \"RPE Main\": 10.0, \"Projected 1RM Main\": 280.0, \"Lift Acc\": \"Good Morning\", \"Weight Acc\": 165.0, \"Projected Reps Acc\": 5.0, \"Reps Acc\": 5.0, \"RPE Acc\": 10.0, \"Projected 1RM Acc\": 399.17722146030457}, {\"Date\": \"2019-02-12\", \"Lift Main\": \"Competition Squat\", \"Weight Main\": 280.0, \"Projected Reps Main\": 1.0, \"Reps Main\": 1.0, \"RPE Main\": 10.0, \"Projected 1RM Main\": 280.0, \"Lift Acc\": \"Good Morning\", \"Weight Acc\": 140.0, \"Projected Reps Acc\": 13.0, \"Reps Acc\": 5.0, \"RPE Acc\": 2.0, \"Projected 1RM Acc\": 360.977214092599}, {\"Date\": \"2019-02-23\", \"Lift Main\": \"Competition Squat\", \"Weight Main\": 303.0, \"Projected Reps Main\": 1.0, \"Reps Main\": 1.0, \"RPE Main\": 10.0, \"Projected 1RM Main\": 303.0, \"Lift Acc\": null, \"Weight Acc\": 140.0, \"Projected Reps Acc\": 13.0, \"Reps Acc\": 5.0, \"RPE Acc\": 2.0, \"Projected 1RM Acc\": 360.977214092599}, {\"Date\": \"2019-02-19\", \"Lift Main\": null, \"Weight Main\": 303.0, \"Projected Reps Main\": 1.0, \"Reps Main\": 1.0, \"RPE Main\": 10.0, \"Projected 1RM Main\": 303.0, \"Lift Acc\": \"Good Morning\", \"Weight Acc\": 140.0, \"Projected Reps Acc\": 13.0, \"Reps Acc\": 5.0, \"RPE Acc\": 2.0, \"Projected 1RM Acc\": 360.977214092599}]}}, {\"mode\": \"vega-lite\"});\n",
              "</script>"
            ]
          },
          "metadata": {
            "tags": []
          },
          "execution_count": 117
        }
      ]
    }
  ]
}